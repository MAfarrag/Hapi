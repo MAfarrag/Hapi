{
 "cells": [
  {
   "cell_type": "code",
   "execution_count": 1,
   "id": "dc2593d5-0031-4f93-811b-d8e294431c00",
   "metadata": {},
   "outputs": [],
   "source": [
    "import os\n",
    "import sys\n",
    "sys.path.append(\"F:/01Algorithms/Hydrology/HAPI\")\n",
    "os.chdir(\"F:/01Algorithms/Hydrology/HAPI/Examples\")\n",
    "\n",
    "from Hapi.gis.raster import Raster\n",
    "import gdal\n",
    "import osr\n",
    "import rasterio\n",
    "from rasterio.plot import show"
   ]
  },
  {
   "cell_type": "markdown",
   "id": "ee11c1c5-5288-49db-9968-958f90d4ba88",
   "metadata": {},
   "source": [
    "# Read the data\n",
    "- the data is 2 rasters that we want to reproject one of them based on the projection of the other raster so if we know the EPSG of the first raster we don't need to read it"
   ]
  },
  {
   "cell_type": "code",
   "execution_count": 23,
   "id": "75119487-02a9-4615-a61f-481c0bd5359f",
   "metadata": {},
   "outputs": [],
   "source": [
    "RasterApath = \"data/GIS/DEM5km_Rhine_burned_acc.tif\"\n",
    "RasterBpath = \"data/GIS/MSWEP_1979010100.tif\"\n",
    "# RasterBpath = \"F:/01Algorithms/Hydrology/HAPI/Examples/data/GIS/MSWEP_4746epsg.tif\"\n",
    "SaveTo = \"data/GIS/MSWEP_1979010100_reprojected.tif\"\n",
    "\n",
    "RasterA = gdal.Open(RasterApath)\n",
    "RasterB = gdal.Open(RasterBpath)"
   ]
  },
  {
   "cell_type": "code",
   "execution_count": 28,
   "id": "ef90ac9f-f6e9-4821-964a-07334bd2a6ce",
   "metadata": {},
   "outputs": [
    {
     "data": {
      "image/png": "[encoded data removed]",
      "text/plain": [
       "<Figure size 432x288 with 1 Axes>"
      ]
     },
     "metadata": {
      "needs_background": "light"
     },
     "output_type": "display_data"
    },
    {
     "data": {
      "text/plain": [
       "<AxesSubplot:>"
      ]
     },
     "execution_count": 28,
     "metadata": {},
     "output_type": "execute_result"
    }
   ],
   "source": [
    "RasterObj = rasterio.open(RasterApath)\n",
    "show((RasterObj, 1))"
   ]
  },
  {
   "cell_type": "markdown",
   "id": "50f5d432-240b-4c3c-bd6b-b89bb86a98d8",
   "metadata": {},
   "source": [
    "- We need number of rows and cols from src A and data from src B to store both in dst\n",
    "- First the projection of the destination raster has to be changed to the same projection of the source raster\n",
    "- to do so we have to get the EPSG number of the projection and reporoject the destination raster to the EPSG of the source raster"
   ]
  },
  {
   "cell_type": "code",
   "execution_count": 16,
   "id": "1e2d7d87-c666-499c-b269-82b38963ecc2",
   "metadata": {},
   "outputs": [
    {
     "name": "stdout",
     "output_type": "stream",
     "text": [
      "LOCAL_CS[\"ETRS_1989_UTM_Zone_N32\",UNIT[\"metre\",1,AUTHORITY[\"EPSG\",\"9001\"]],AXIS[\"Easting\",EAST],AXIS[\"Northing\",NORTH],AUTHORITY[\"EPSG\",\"4647\"]]\n"
     ]
    }
   ],
   "source": [
    "RasterA_proj=RasterA.GetProjection()\n",
    "print(RasterA_proj)"
   ]
  },
  {
   "cell_type": "code",
   "execution_count": 17,
   "id": "71d1faa0-d633-4a39-8c1e-02a9c51c036a",
   "metadata": {},
   "outputs": [
    {
     "name": "stdout",
     "output_type": "stream",
     "text": [
      "LOCAL_CS[\"ETRS_1989_UTM_Zone_N32\",\n",
      "    UNIT[\"metre\",1,\n",
      "        AUTHORITY[\"EPSG\",\"9001\"]],\n",
      "    AXIS[\"Easting\",EAST],\n",
      "    AXIS[\"Northing\",NORTH],\n",
      "    AUTHORITY[\"EPSG\",\"4647\"]]\n"
     ]
    }
   ],
   "source": [
    "RasterA_epsg=osr.SpatialReference(wkt=RasterA_proj)\n",
    "print(RasterA_epsg)"
   ]
  },
  {
   "cell_type": "markdown",
   "id": "a2d30fc7-9705-4987-8906-2cf131c03ac5",
   "metadata": {},
   "source": [
    "- To get the EPSG number of the projection of the source raster"
   ]
  },
  {
   "cell_type": "code",
   "execution_count": 18,
   "id": "69628c10-a15a-4618-a5a7-5240879c1424",
   "metadata": {},
   "outputs": [
    {
     "name": "stdout",
     "output_type": "stream",
     "text": [
      "4647\n"
     ]
    }
   ],
   "source": [
    "print(RasterA_epsg.GetAttrValue('AUTHORITY',1))"
   ]
  },
  {
   "cell_type": "code",
   "execution_count": 19,
   "id": "60c0f34f-b792-4820-aaf8-330235d08ab0",
   "metadata": {},
   "outputs": [
    {
     "name": "stdout",
     "output_type": "stream",
     "text": [
      "GEOGCS[\"WGS 84\",DATUM[\"WGS_1984\",SPHEROID[\"WGS 84\",6378137,298.257223563,AUTHORITY[\"EPSG\",\"7030\"]],AUTHORITY[\"EPSG\",\"6326\"]],PRIMEM[\"Greenwich\",0],UNIT[\"degree\",0.0174532925199433,AUTHORITY[\"EPSG\",\"9122\"]],AXIS[\"Latitude\",NORTH],AXIS[\"Longitude\",EAST],AUTHORITY[\"EPSG\",\"4326\"]]\n"
     ]
    }
   ],
   "source": [
    "RasterB_proj=RasterB.GetProjection()\n",
    "print(RasterB_proj)"
   ]
  },
  {
   "cell_type": "code",
   "execution_count": 20,
   "id": "b1e1010f-c912-46f3-a509-f7d69efe5212",
   "metadata": {},
   "outputs": [
    {
     "name": "stdout",
     "output_type": "stream",
     "text": [
      "GEOGCS[\"WGS 84\",\n",
      "    DATUM[\"WGS_1984\",\n",
      "        SPHEROID[\"WGS 84\",6378137,298.257223563,\n",
      "            AUTHORITY[\"EPSG\",\"7030\"]],\n",
      "        AUTHORITY[\"EPSG\",\"6326\"]],\n",
      "    PRIMEM[\"Greenwich\",0],\n",
      "    UNIT[\"degree\",0.0174532925199433,\n",
      "        AUTHORITY[\"EPSG\",\"9122\"]],\n",
      "    AXIS[\"Latitude\",NORTH],\n",
      "    AXIS[\"Longitude\",EAST],\n",
      "    AUTHORITY[\"EPSG\",\"4326\"]]\n"
     ]
    }
   ],
   "source": [
    "RasterB_epsg=osr.SpatialReference(wkt=RasterB_proj)\n",
    "print(RasterB_epsg)"
   ]
  },
  {
   "cell_type": "markdown",
   "id": "1e840828-c6a6-4784-be69-476b4ec09d25",
   "metadata": {},
   "source": [
    "- To get the EPSG number of the projection of the destination raster"
   ]
  },
  {
   "cell_type": "code",
   "execution_count": 8,
   "id": "ae14a763-8bd4-4aae-96d4-d04a7eaeb5f1",
   "metadata": {},
   "outputs": [
    {
     "name": "stdout",
     "output_type": "stream",
     "text": [
      "4326\n"
     ]
    }
   ],
   "source": [
    "print(RasterB_epsg.GetAttrValue('AUTHORITY',1))"
   ]
  },
  {
   "cell_type": "markdown",
   "id": "c11e099a-e248-4f2c-97bb-845249a3637d",
   "metadata": {},
   "source": [
    "# Reproject raster"
   ]
  },
  {
   "cell_type": "markdown",
   "id": "43152714-f564-4d1f-b38f-9b6b79c22463",
   "metadata": {},
   "source": [
    "this function reproject a raster to any projection\n",
    "        (default the WGS84 web mercator projection, without resampling)\n",
    "        The function returns a GDAL in-memory file object, where you can ReadAsArray etc.\n",
    "\n",
    "        inputs:\n",
    "        ----------\n",
    "            1- raster:\n",
    "                gdal dataset (src=gdal.Open(\"dem.tif\"))\n",
    "            2-to_epsg:\n",
    "                integer reference number to the new projection (https://epsg.io/)\n",
    "                (default 3857 the reference no of WGS84 web mercator )\n",
    "            3-cell_size:\n",
    "                integer number to resample the raster cell size to a new cell size\n",
    "                (default empty so raster will not be resampled)\n",
    "            4- resample_technique:\n",
    "                [String] resampling technique default is \"Nearest\"\n",
    "                https://gisgeography.com/raster-resampling/\n",
    "                \"Nearest\" for nearest neighbour,\"cubic\" for cubic convolution,\n",
    "                \"bilinear\" for bilinear\n",
    "\n",
    "        Outputs:\n",
    "        ----------\n",
    "            1-raster:\n",
    "                gdal dataset (you can read it by ReadAsArray)\n",
    "\n",
    "        Ex:\n",
    "        ----------\n",
    "            projected_raster=project_dataset(src, to_epsg=3857)"
   ]
  },
  {
   "cell_type": "code",
   "execution_count": 9,
   "id": "3b292104-0e62-4858-9eca-d633fbeb19fd",
   "metadata": {},
   "outputs": [
    {
     "name": "stdout",
     "output_type": "stream",
     "text": [
      "4647\n"
     ]
    }
   ],
   "source": [
    "to_epsg = int(RasterA_epsg.GetAttrValue('AUTHORITY',1))\n",
    "print(to_epsg)"
   ]
  },
  {
   "cell_type": "code",
   "execution_count": 10,
   "id": "e633fe91-2cea-4e4a-84f7-06eefc5a49a5",
   "metadata": {},
   "outputs": [],
   "source": [
    "RasterB_reprojected = Raster.ProjectRaster(RasterB, to_epsg, resample_technique=\"cubic\", Option=1)"
   ]
  },
  {
   "cell_type": "code",
   "execution_count": 11,
   "id": "29801049-952f-4d46-b1a1-3e354563e0b5",
   "metadata": {},
   "outputs": [],
   "source": [
    "# GET THE GEOTRANSFORM\n",
    "RasterB_gt=RasterB.GetGeoTransform()"
   ]
  },
  {
   "cell_type": "code",
   "execution_count": 12,
   "id": "eabbeffe-5759-4ea7-aa13-faa0f55ececf",
   "metadata": {},
   "outputs": [],
   "source": [
    "# GET NUMBER OF columns\n",
    "RasterB_x=RasterB.RasterXSize\n",
    "# get number of rows\n",
    "RasterB_y=RasterB.RasterYSize\n",
    "# we need number of rows and cols from src A and data from src B to store both in dst\n",
    "RasterB_proj=RasterB.GetProjection()\n",
    "RasterB_epsg=osr.SpatialReference(wkt=RasterB_proj)"
   ]
  },
  {
   "cell_type": "code",
   "execution_count": 13,
   "id": "6c59a747-42ff-46e5-8158-a06ab0362f90",
   "metadata": {},
   "outputs": [],
   "source": [
    "# GET THE GEOTRANSFORM\n",
    "RasterB_reprojected_gt=RasterB_reprojected.GetGeoTransform()\n",
    "# GET NUMBER OF columns\n",
    "RasterB_reprojected_x=RasterB_reprojected.RasterXSize\n",
    "# get number of rows\n",
    "RasterB_reprojected_y=RasterB_reprojected.RasterYSize\n",
    "# we need number of rows and cols from src A and data from src B to store both in dst\n",
    "RasterB_reprojected_proj=RasterB_reprojected.GetProjection()\n",
    "RasterB_reprojected_epsg=osr.SpatialReference(wkt=RasterB_reprojected_proj)\n",
    "\n",
    "RasterB_reprojected_array = RasterB_reprojected.ReadAsArray()"
   ]
  },
  {
   "cell_type": "code",
   "execution_count": null,
   "id": "533080e0-5ae2-4c7e-85ff-ed5f7ae39155",
   "metadata": {},
   "outputs": [],
   "source": [
    "#%% save the raster\n",
    "Raster.SaveRaster(RasterB_reprojected,SaveTo)"
   ]
  }
 ],
 "metadata": {
  "kernelspec": {
   "display_name": "Python 3 (ipykernel)",
   "language": "python",
   "name": "python3"
  },
  "language_info": {
   "codemirror_mode": {
    "name": "ipython",
    "version": 3
   },
   "file_extension": ".py",
   "mimetype": "text/x-python",
   "name": "python",
   "nbconvert_exporter": "python",
   "pygments_lexer": "ipython3",
   "version": "3.7.10"
  }
 },
 "nbformat": 4,
 "nbformat_minor": 5
}
