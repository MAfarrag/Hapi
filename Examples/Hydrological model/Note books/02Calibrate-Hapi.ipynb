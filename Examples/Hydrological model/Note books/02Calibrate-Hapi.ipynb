{
 "cells": [
  {
   "cell_type": "markdown",
   "id": "75d19ebc-b4dd-49b5-96c6-5732e9dfb794",
   "metadata": {},
   "source": [
    "# Hapi Calibration"
   ]
  },
  {
   "cell_type": "markdown",
   "id": "06866108-fead-4f50-802f-188297d3c1e0",
   "metadata": {},
   "source": [
    "- please change the Path to the directory where you stored the case study data"
   ]
  },
  {
   "cell_type": "code",
   "execution_count": 1,
   "id": "25623895",
   "metadata": {},
   "outputs": [],
   "source": [
    "Comp = \"F:/01Algorithms/Hydrology/HAPI/Examples\""
   ]
  },
  {
   "cell_type": "code",
   "execution_count": 4,
   "id": "ef94568f",
   "metadata": {},
   "outputs": [],
   "source": [
    "import numpy as np\n",
    "import datetime as dt\n",
    "import gdal\n",
    "from Hapi.rrm.calibration import Calibration\n",
    "import Hapi.rrm.hbv_bergestrom92 as HBV\n",
    "\n",
    "from Hapi.rrm.distparameters import DistParameters as DP\n",
    "import Hapi.statistics.performancecriteria as PC"
   ]
  },
  {
   "cell_type": "markdown",
   "id": "f8674464",
   "metadata": {},
   "source": [
    "### Paths"
   ]
  },
  {
   "cell_type": "code",
   "execution_count": 5,
   "id": "f67d0803",
   "metadata": {},
   "outputs": [],
   "source": [
    "Path = Comp + \"/data/distributed/coello\"\n",
    "PrecPath = Path + \"/prec\"\n",
    "Evap_Path = Path + \"/evap\"\n",
    "TempPath = Path + \"/temp\"\n",
    "FlowAccPath = Path + \"/GIS/acc4000.tif\"\n",
    "FlowDPath = Path + \"/GIS/fd4000.tif\"\n",
    "CalibPath = Path + \"/calibration\"\n",
    "SaveTo = Path + \"/results\""
   ]
  },
  {
   "cell_type": "markdown",
   "id": "e1930b52",
   "metadata": {},
   "source": [
    "# Calibration Object"
   ]
  },
  {
   "cell_type": "code",
   "execution_count": 6,
   "id": "50bca8ac",
   "metadata": {},
   "outputs": [],
   "source": [
    "AreaCoeff = 1530\n",
    "#[sp,sm,uz,lz,wc]\n",
    "InitialCond = [0,5,5,5,0]\n",
    "Snow = 0\n",
    "\n",
    "\"\"\"\n",
    "Create the model object and read the input data\n",
    "\"\"\"\n",
    "Sdate = '2009-01-01'\n",
    "Edate = '2009-04-10'\n",
    "name = \"Coello\"\n",
    "Coello = Calibration(name, Sdate, Edate, SpatialResolution = \"Distributed\")"
   ]
  },
  {
   "cell_type": "markdown",
   "id": "c8d5eb9b",
   "metadata": {},
   "source": [
    "### Meteorological & GIS Data"
   ]
  },
  {
   "cell_type": "code",
   "execution_count": 7,
   "id": "96b27332",
   "metadata": {},
   "outputs": [
    {
     "name": "stdout",
     "output_type": "stream",
     "text": [
      "Rainfall data are read successfully\n",
      "Temperature data are read successfully\n",
      "Potential Evapotranspiration data are read successfully\n",
      "Flow Accmulation input is read successfully\n",
      "Flow Direction input is read successfully\n",
      "Lumped model is read successfully\n"
     ]
    }
   ],
   "source": [
    "Coello.ReadRainfall(PrecPath)\n",
    "Coello.ReadTemperature(TempPath)\n",
    "Coello.ReadET(Evap_Path)\n",
    "\n",
    "Coello.ReadFlowAcc(FlowAccPath)\n",
    "Coello.ReadFlowDir(FlowDPath)\n",
    "Coello.ReadLumpedModel(HBV, AreaCoeff, InitialCond)"
   ]
  },
  {
   "cell_type": "code",
   "execution_count": 8,
   "id": "dfd56642",
   "metadata": {},
   "outputs": [
    {
     "name": "stdout",
     "output_type": "stream",
     "text": [
      "Parameters bounds are read successfully\n"
     ]
    }
   ],
   "source": [
    "UB = np.loadtxt(CalibPath + \"/UB - tot.txt\", usecols=0)\n",
    "LB = np.loadtxt(CalibPath + \"/LB - tot.txt\", usecols=0)\n",
    "Coello.ReadParametersBounds(UB, LB, Snow)"
   ]
  },
  {
   "cell_type": "markdown",
   "id": "911a5587",
   "metadata": {},
   "source": [
    "### spatial variability function\n",
    "\n",
    "define how generated parameters are going to be distributed spatially\n",
    "totaly distributed or totally distributed with some parameters are lumped\n",
    "for the whole catchment or HRUs or HRUs with some lumped parameters\n",
    "for muskingum parameters k & x include the upper and lower bound in both\n",
    "UB & LB with the order of Klb then kub\n",
    "function inside the calibration algorithm is written as following\n",
    "\n",
    "par_dist = SpatialVarFun(par,*SpatialVarArgs,kub=kub,klb=klb)\n"
   ]
  },
  {
   "cell_type": "code",
   "execution_count": 11,
   "id": "b4365094",
   "metadata": {},
   "outputs": [
    {
     "data": {
      "text/plain": [
       "980"
      ]
     },
     "execution_count": 11,
     "metadata": {},
     "output_type": "execute_result"
    }
   ],
   "source": [
    "raster = gdal.Open(FlowAccPath)\n",
    "#-------------\n",
    "# for lumped catchment parameters\n",
    "no_parameters = 12\n",
    "klb = 0.5\n",
    "kub = 1\n",
    "#------------\n",
    "no_lumped_par = 1\n",
    "lumped_par_pos = [7]\n",
    "\n",
    "SpatialVarFun = DP(raster, no_parameters, no_lumped_par=no_lumped_par,\n",
    "                   lumped_par_pos=lumped_par_pos,Function=2, Klb=klb, Kub=kub)\n",
    "# calculate no of parameters that optimization algorithm is going to generate\n",
    "SpatialVarFun.ParametersNO"
   ]
  },
  {
   "cell_type": "markdown",
   "id": "acb5017f",
   "metadata": {},
   "source": [
    "### Gauges"
   ]
  },
  {
   "cell_type": "code",
   "execution_count": 12,
   "id": "810f9eae",
   "metadata": {},
   "outputs": [
    {
     "name": "stdout",
     "output_type": "stream",
     "text": [
      "Gauge Table is read successfully\n",
      "Gauges data are read successfully\n"
     ]
    }
   ],
   "source": [
    "Coello.ReadGaugeTable(Path+\"/stations/gauges.csv\", FlowAccPath)\n",
    "GaugesPath = Path+\"/stations/\"\n",
    "Coello.ReadDischargeGauges(GaugesPath, column='id', fmt=\"%Y-%m-%d\")"
   ]
  },
  {
   "cell_type": "code",
   "execution_count": 10,
   "id": "b046c095-fbce-41cd-a4bf-568f445ce815",
   "metadata": {},
   "outputs": [
    {
     "data": {
      "text/html": [
       "<div>\n",
       "<style scoped>\n",
       "    .dataframe tbody tr th:only-of-type {\n",
       "        vertical-align: middle;\n",
       "    }\n",
       "\n",
       "    .dataframe tbody tr th {\n",
       "        vertical-align: top;\n",
       "    }\n",
       "\n",
       "    .dataframe thead th {\n",
       "        text-align: right;\n",
       "    }\n",
       "</style>\n",
       "<table border=\"1\" class=\"dataframe\">\n",
       "  <thead>\n",
       "    <tr style=\"text-align: right;\">\n",
       "      <th></th>\n",
       "      <th>id</th>\n",
       "      <th>name</th>\n",
       "      <th>x</th>\n",
       "      <th>y</th>\n",
       "      <th>original area</th>\n",
       "      <th>area</th>\n",
       "      <th>area ratio</th>\n",
       "      <th>weight</th>\n",
       "      <th>cell_row</th>\n",
       "      <th>cell_col</th>\n",
       "    </tr>\n",
       "  </thead>\n",
       "  <tbody>\n",
       "    <tr>\n",
       "      <th>0</th>\n",
       "      <td>1</td>\n",
       "      <td>Station 1</td>\n",
       "      <td>454795.6728</td>\n",
       "      <td>503143.3264</td>\n",
       "      <td>124.0659</td>\n",
       "      <td>64</td>\n",
       "      <td>1.938530</td>\n",
       "      <td>0.06</td>\n",
       "      <td>4.0</td>\n",
       "      <td>5.0</td>\n",
       "    </tr>\n",
       "    <tr>\n",
       "      <th>1</th>\n",
       "      <td>2</td>\n",
       "      <td>Station 2</td>\n",
       "      <td>443847.5736</td>\n",
       "      <td>481850.7151</td>\n",
       "      <td>83.0025</td>\n",
       "      <td>96</td>\n",
       "      <td>0.864609</td>\n",
       "      <td>0.08</td>\n",
       "      <td>9.0</td>\n",
       "      <td>2.0</td>\n",
       "    </tr>\n",
       "    <tr>\n",
       "      <th>2</th>\n",
       "      <td>3</td>\n",
       "      <td>station 3</td>\n",
       "      <td>454044.6935</td>\n",
       "      <td>481189.4256</td>\n",
       "      <td>44.8587</td>\n",
       "      <td>16</td>\n",
       "      <td>2.803669</td>\n",
       "      <td>0.02</td>\n",
       "      <td>9.0</td>\n",
       "      <td>5.0</td>\n",
       "    </tr>\n",
       "    <tr>\n",
       "      <th>3</th>\n",
       "      <td>4</td>\n",
       "      <td>Station 4</td>\n",
       "      <td>464533.7067</td>\n",
       "      <td>502683.6482</td>\n",
       "      <td>91.4949</td>\n",
       "      <td>80</td>\n",
       "      <td>1.143686</td>\n",
       "      <td>0.07</td>\n",
       "      <td>4.0</td>\n",
       "      <td>7.0</td>\n",
       "    </tr>\n",
       "    <tr>\n",
       "      <th>4</th>\n",
       "      <td>5</td>\n",
       "      <td>Station 5</td>\n",
       "      <td>463231.1242</td>\n",
       "      <td>486656.3455</td>\n",
       "      <td>730.1259</td>\n",
       "      <td>784</td>\n",
       "      <td>0.931283</td>\n",
       "      <td>0.38</td>\n",
       "      <td>8.0</td>\n",
       "      <td>7.0</td>\n",
       "    </tr>\n",
       "    <tr>\n",
       "      <th>5</th>\n",
       "      <td>6</td>\n",
       "      <td>ExitPoint_coello basin</td>\n",
       "      <td>487292.5152</td>\n",
       "      <td>478045.5720</td>\n",
       "      <td>1453.9185</td>\n",
       "      <td>1408</td>\n",
       "      <td>1.032613</td>\n",
       "      <td>0.40</td>\n",
       "      <td>10.0</td>\n",
       "      <td>13.0</td>\n",
       "    </tr>\n",
       "  </tbody>\n",
       "</table>\n",
       "</div>"
      ],
      "text/plain": [
       "   id                    name            x            y  original area  area  \\\n",
       "0   1               Station 1  454795.6728  503143.3264       124.0659    64   \n",
       "1   2               Station 2  443847.5736  481850.7151        83.0025    96   \n",
       "2   3               station 3  454044.6935  481189.4256        44.8587    16   \n",
       "3   4               Station 4  464533.7067  502683.6482        91.4949    80   \n",
       "4   5               Station 5  463231.1242  486656.3455       730.1259   784   \n",
       "5   6  ExitPoint_coello basin  487292.5152  478045.5720      1453.9185  1408   \n",
       "\n",
       "   area ratio  weight  cell_row  cell_col  \n",
       "0    1.938530    0.06       4.0       5.0  \n",
       "1    0.864609    0.08       9.0       2.0  \n",
       "2    2.803669    0.02       9.0       5.0  \n",
       "3    1.143686    0.07       4.0       7.0  \n",
       "4    0.931283    0.38       8.0       7.0  \n",
       "5    1.032613    0.40      10.0      13.0  "
      ]
     },
     "execution_count": 10,
     "metadata": {},
     "output_type": "execute_result"
    }
   ],
   "source": [
    "Coello.GaugesTable"
   ]
  },
  {
   "cell_type": "markdown",
   "id": "9772791d",
   "metadata": {},
   "source": [
    "### Objective function"
   ]
  },
  {
   "cell_type": "code",
   "execution_count": 15,
   "id": "c2d7fe5d",
   "metadata": {},
   "outputs": [
    {
     "name": "stdout",
     "output_type": "stream",
     "text": [
      "Objective function is read successfully\n"
     ]
    }
   ],
   "source": [
    "coordinates = Coello.GaugesTable[['id','x','y','weight']][:]\n",
    "\n",
    "# define the objective function and its arguments\n",
    "OF_args = [coordinates]\n",
    "\n",
    "def OF(Qobs, Qout, q_uz_routed, q_lz_trans, coordinates):\n",
    "    Coello.ExtractDischarge()\n",
    "    all_errors=[]\n",
    "    # error for all internal stations\n",
    "    for i in range(len(coordinates)):\n",
    "        all_errors.append((PC.RMSE(Qobs.loc[:,Qobs.columns[0]],Coello.Qsim[:,i]))) #*coordinates.loc[coordinates.index[i],'weight']\n",
    "    print(all_errors)\n",
    "    error = sum(all_errors)\n",
    "    return error\n",
    "\n",
    "Coello.ReadObjectiveFn(OF, OF_args)"
   ]
  },
  {
   "cell_type": "markdown",
   "id": "8fed5acd",
   "metadata": {},
   "source": [
    "### Optimization\n",
    "\n",
    "API options\n",
    "Create the options dictionary all the optimization parameters should be passed\n",
    "to the optimization object inside the option dictionary:\n",
    "\n",
    "to see all options import Optimizer class and check the documentation of the\n",
    "method setOption\n",
    "\n",
    "- for the filename please provide the full path\n"
   ]
  },
  {
   "cell_type": "code",
   "execution_count": 18,
   "id": "c29f26ef",
   "metadata": {},
   "outputs": [
    {
     "name": "stdout",
     "output_type": "stream",
     "text": [
      "hms 100\n",
      "hmcr 0.95\n",
      "par 0.65\n",
      "dbw 2000\n",
      "fileout 1\n",
      "filename F:/01Algorithms/Hydrology/HAPI/Examples/data/distributed/coello/results/Coello_2021-05-15.txt\n"
     ]
    }
   ],
   "source": [
    "ApiObjArgs = dict(hms=100, hmcr=0.95, par=0.65, dbw=2000, fileout=1,\n",
    "                      filename=SaveTo + \"/Coello_\"+str(dt.datetime.now())[0:10]+\".txt\")\n",
    "\n",
    "for i in range(len(ApiObjArgs)):\n",
    "    print(list(ApiObjArgs.keys())[i], str(ApiObjArgs[list(ApiObjArgs.keys())[i]]))\n",
    "\n",
    "pll_type = 'POA'\n",
    "#pll_type = None\n",
    "\n",
    "ApiSolveArgs = dict(store_sol=True, display_opts=True, store_hst=True,hot_start=False)\n",
    "\n",
    "OptimizationArgs=[ApiObjArgs, pll_type, ApiSolveArgs]"
   ]
  },
  {
   "cell_type": "markdown",
   "id": "a038c76b",
   "metadata": {},
   "source": [
    "### Run Calibration"
   ]
  },
  {
   "cell_type": "code",
   "execution_count": null,
   "id": "bc38500d",
   "metadata": {},
   "outputs": [],
   "source": [
    "cal_parameters = Coello.RunCalibration(SpatialVarFun, OptimizationArgs,\n",
    "                                          printError=0)"
   ]
  },
  {
   "cell_type": "markdown",
   "id": "7210051b",
   "metadata": {},
   "source": [
    "### Convert Parameters to rasters"
   ]
  },
  {
   "cell_type": "code",
   "execution_count": null,
   "id": "cbe6f15d",
   "metadata": {},
   "outputs": [],
   "source": [
    "SpatialVarFun.Function(Coello.Parameters, kub=SpatialVarFun.Kub, klb=SpatialVarFun.Klb)\n",
    "SpatialVarFun.SaveParameters(SaveTo)"
   ]
  }
 ],
 "metadata": {
  "kernelspec": {
   "display_name": "Python 3",
   "language": "python",
   "name": "python3"
  },
  "language_info": {
   "codemirror_mode": {
    "name": "ipython",
    "version": 3
   },
   "file_extension": ".py",
   "mimetype": "text/x-python",
   "name": "python",
   "nbconvert_exporter": "python",
   "pygments_lexer": "ipython3",
   "version": "3.8.10"
  }
 },
 "nbformat": 4,
 "nbformat_minor": 5
}
