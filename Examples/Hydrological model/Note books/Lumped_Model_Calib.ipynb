{
 "cells": [
  {
   "cell_type": "markdown",
   "id": "b28a9387-0f0c-4c9d-a52d-b3a3a5618aac",
   "metadata": {},
   "source": [
    "# Lumped Model Calibration"
   ]
  },
  {
   "cell_type": "markdown",
   "id": "7b408ce7-52aa-401b-bcd5-132255e46cf3",
   "metadata": {},
   "source": [
    "- Please change the Path in the following cell to the directory where you stored the case study data"
   ]
  },
  {
   "cell_type": "code",
   "execution_count": 14,
   "id": "ad01687e",
   "metadata": {},
   "outputs": [],
   "source": [
    "Comp = \"F:/01Algorithms/Hydrology/HAPI/Examples\""
   ]
  },
  {
   "cell_type": "markdown",
   "id": "2bd5322a",
   "metadata": {},
   "source": [
    "### Modules"
   ]
  },
  {
   "cell_type": "code",
   "execution_count": 1,
   "id": "54aa43b6",
   "metadata": {},
   "outputs": [],
   "source": [
    "import datetime as dt\n",
    "\n",
    "import pandas as pd\n",
    "\n",
    "import Hapi.rrm.hbv_bergestrom92 as HBVLumped\n",
    "import Hapi.sm.performancecriteria as PC\n",
    "from Hapi.rrm.calibration import Calibration\n",
    "from Hapi.rrm.routing import Routing\n",
    "from Hapi.run import Run"
   ]
  },
  {
   "cell_type": "markdown",
   "id": "1584f9c5",
   "metadata": {},
   "source": [
    "### Paths"
   ]
  },
  {
   "cell_type": "code",
   "execution_count": 2,
   "id": "576dd8b4",
   "metadata": {},
   "outputs": [],
   "source": [
    "Parameterpath = \"Examples/data/lumped/Coello_Lumped2021-03-08_muskingum.txt\"\n",
    "MeteoDataPath = \"Examples/data/lumped/meteo_data-MSWEP.csv\"\n",
    "Path = \"Examples/data/lumped/\""
   ]
  },
  {
   "cell_type": "markdown",
   "id": "d3bffd6f",
   "metadata": {},
   "source": [
    "### Meteorological data"
   ]
  },
  {
   "cell_type": "code",
   "execution_count": 3,
   "id": "a89ee25b",
   "metadata": {},
   "outputs": [
    {
     "ename": "FileNotFoundError",
     "evalue": "[Errno 2] No such file or directory: 'Examples/data/lumped/meteo_data-MSWEP.csv'",
     "output_type": "error",
     "traceback": [
      "\u001B[1;31m---------------------------------------------------------------------------\u001B[0m",
      "\u001B[1;31mFileNotFoundError\u001B[0m                         Traceback (most recent call last)",
      "Input \u001B[1;32mIn [3]\u001B[0m, in \u001B[0;36m<module>\u001B[1;34m\u001B[0m\n\u001B[0;32m      3\u001B[0m name \u001B[38;5;241m=\u001B[39m \u001B[38;5;124m\"\u001B[39m\u001B[38;5;124mCoello\u001B[39m\u001B[38;5;124m\"\u001B[39m\n\u001B[0;32m      5\u001B[0m Coello \u001B[38;5;241m=\u001B[39m Calibration(name, start, end)\n\u001B[1;32m----> 6\u001B[0m \u001B[43mCoello\u001B[49m\u001B[38;5;241;43m.\u001B[39;49m\u001B[43mReadLumpedInputs\u001B[49m\u001B[43m(\u001B[49m\u001B[43mMeteoDataPath\u001B[49m\u001B[43m)\u001B[49m\n",
      "File \u001B[1;32mC:\\MyComputer\\01Algorithms\\hydrology\\Hapi\\Hapi\\catchment.py:622\u001B[0m, in \u001B[0;36mCatchment.ReadLumpedInputs\u001B[1;34m(self, Path, ll_temp)\u001B[0m\n\u001B[0;32m    596\u001B[0m \u001B[38;5;28;01mdef\u001B[39;00m \u001B[38;5;21mReadLumpedInputs\u001B[39m(\n\u001B[0;32m    597\u001B[0m         \u001B[38;5;28mself\u001B[39m,\n\u001B[0;32m    598\u001B[0m         Path: \u001B[38;5;28mstr\u001B[39m,\n\u001B[0;32m    599\u001B[0m         ll_temp: Union[\u001B[38;5;28mlist\u001B[39m, np\u001B[38;5;241m.\u001B[39mndarray]\u001B[38;5;241m=\u001B[39m\u001B[38;5;28;01mNone\u001B[39;00m\n\u001B[0;32m    600\u001B[0m ):\n\u001B[0;32m    601\u001B[0m     \u001B[38;5;124;03m\"\"\"ReadLumpedInputs.\u001B[39;00m\n\u001B[0;32m    602\u001B[0m \n\u001B[0;32m    603\u001B[0m \u001B[38;5;124;03m    ReadLumpedInputs method read the meteorological data of lumped mode\u001B[39;00m\n\u001B[1;32m   (...)\u001B[0m\n\u001B[0;32m    620\u001B[0m \u001B[38;5;124;03m        average long term temperature.\u001B[39;00m\n\u001B[0;32m    621\u001B[0m \u001B[38;5;124;03m    \"\"\"\u001B[39;00m\n\u001B[1;32m--> 622\u001B[0m     \u001B[38;5;28mself\u001B[39m\u001B[38;5;241m.\u001B[39mdata \u001B[38;5;241m=\u001B[39m \u001B[43mpd\u001B[49m\u001B[38;5;241;43m.\u001B[39;49m\u001B[43mread_csv\u001B[49m\u001B[43m(\u001B[49m\n\u001B[0;32m    623\u001B[0m \u001B[43m        \u001B[49m\u001B[43mPath\u001B[49m\u001B[43m,\u001B[49m\u001B[43m \u001B[49m\u001B[43mheader\u001B[49m\u001B[38;5;241;43m=\u001B[39;49m\u001B[38;5;241;43m0\u001B[39;49m\u001B[43m,\u001B[49m\u001B[43m \u001B[49m\u001B[43mdelimiter\u001B[49m\u001B[38;5;241;43m=\u001B[39;49m\u001B[38;5;124;43m\"\u001B[39;49m\u001B[38;5;124;43m,\u001B[39;49m\u001B[38;5;124;43m\"\u001B[39;49m\u001B[43m,\u001B[49m\u001B[43m \u001B[49m\u001B[43mindex_col\u001B[49m\u001B[38;5;241;43m=\u001B[39;49m\u001B[38;5;241;43m0\u001B[39;49m\u001B[43m  \u001B[49m\u001B[38;5;66;43;03m# \"\\t\", #skiprows=11,\u001B[39;49;00m\n\u001B[0;32m    624\u001B[0m \u001B[43m    \u001B[49m\u001B[43m)\u001B[49m\n\u001B[0;32m    625\u001B[0m     \u001B[38;5;28mself\u001B[39m\u001B[38;5;241m.\u001B[39mdata \u001B[38;5;241m=\u001B[39m \u001B[38;5;28mself\u001B[39m\u001B[38;5;241m.\u001B[39mdata\u001B[38;5;241m.\u001B[39mvalues\n\u001B[0;32m    627\u001B[0m     \u001B[38;5;28;01mif\u001B[39;00m ll_temp \u001B[38;5;129;01mis\u001B[39;00m \u001B[38;5;28;01mNone\u001B[39;00m:\n",
      "File \u001B[1;32m~\\anaconda\\envs\\py310\\lib\\site-packages\\pandas\\util\\_decorators.py:311\u001B[0m, in \u001B[0;36mdeprecate_nonkeyword_arguments.<locals>.decorate.<locals>.wrapper\u001B[1;34m(*args, **kwargs)\u001B[0m\n\u001B[0;32m    305\u001B[0m \u001B[38;5;28;01mif\u001B[39;00m \u001B[38;5;28mlen\u001B[39m(args) \u001B[38;5;241m>\u001B[39m num_allow_args:\n\u001B[0;32m    306\u001B[0m     warnings\u001B[38;5;241m.\u001B[39mwarn(\n\u001B[0;32m    307\u001B[0m         msg\u001B[38;5;241m.\u001B[39mformat(arguments\u001B[38;5;241m=\u001B[39marguments),\n\u001B[0;32m    308\u001B[0m         \u001B[38;5;167;01mFutureWarning\u001B[39;00m,\n\u001B[0;32m    309\u001B[0m         stacklevel\u001B[38;5;241m=\u001B[39mstacklevel,\n\u001B[0;32m    310\u001B[0m     )\n\u001B[1;32m--> 311\u001B[0m \u001B[38;5;28;01mreturn\u001B[39;00m func(\u001B[38;5;241m*\u001B[39margs, \u001B[38;5;241m*\u001B[39m\u001B[38;5;241m*\u001B[39mkwargs)\n",
      "File \u001B[1;32m~\\anaconda\\envs\\py310\\lib\\site-packages\\pandas\\io\\parsers\\readers.py:680\u001B[0m, in \u001B[0;36mread_csv\u001B[1;34m(filepath_or_buffer, sep, delimiter, header, names, index_col, usecols, squeeze, prefix, mangle_dupe_cols, dtype, engine, converters, true_values, false_values, skipinitialspace, skiprows, skipfooter, nrows, na_values, keep_default_na, na_filter, verbose, skip_blank_lines, parse_dates, infer_datetime_format, keep_date_col, date_parser, dayfirst, cache_dates, iterator, chunksize, compression, thousands, decimal, lineterminator, quotechar, quoting, doublequote, escapechar, comment, encoding, encoding_errors, dialect, error_bad_lines, warn_bad_lines, on_bad_lines, delim_whitespace, low_memory, memory_map, float_precision, storage_options)\u001B[0m\n\u001B[0;32m    665\u001B[0m kwds_defaults \u001B[38;5;241m=\u001B[39m _refine_defaults_read(\n\u001B[0;32m    666\u001B[0m     dialect,\n\u001B[0;32m    667\u001B[0m     delimiter,\n\u001B[1;32m   (...)\u001B[0m\n\u001B[0;32m    676\u001B[0m     defaults\u001B[38;5;241m=\u001B[39m{\u001B[38;5;124m\"\u001B[39m\u001B[38;5;124mdelimiter\u001B[39m\u001B[38;5;124m\"\u001B[39m: \u001B[38;5;124m\"\u001B[39m\u001B[38;5;124m,\u001B[39m\u001B[38;5;124m\"\u001B[39m},\n\u001B[0;32m    677\u001B[0m )\n\u001B[0;32m    678\u001B[0m kwds\u001B[38;5;241m.\u001B[39mupdate(kwds_defaults)\n\u001B[1;32m--> 680\u001B[0m \u001B[38;5;28;01mreturn\u001B[39;00m \u001B[43m_read\u001B[49m\u001B[43m(\u001B[49m\u001B[43mfilepath_or_buffer\u001B[49m\u001B[43m,\u001B[49m\u001B[43m \u001B[49m\u001B[43mkwds\u001B[49m\u001B[43m)\u001B[49m\n",
      "File \u001B[1;32m~\\anaconda\\envs\\py310\\lib\\site-packages\\pandas\\io\\parsers\\readers.py:575\u001B[0m, in \u001B[0;36m_read\u001B[1;34m(filepath_or_buffer, kwds)\u001B[0m\n\u001B[0;32m    572\u001B[0m _validate_names(kwds\u001B[38;5;241m.\u001B[39mget(\u001B[38;5;124m\"\u001B[39m\u001B[38;5;124mnames\u001B[39m\u001B[38;5;124m\"\u001B[39m, \u001B[38;5;28;01mNone\u001B[39;00m))\n\u001B[0;32m    574\u001B[0m \u001B[38;5;66;03m# Create the parser.\u001B[39;00m\n\u001B[1;32m--> 575\u001B[0m parser \u001B[38;5;241m=\u001B[39m TextFileReader(filepath_or_buffer, \u001B[38;5;241m*\u001B[39m\u001B[38;5;241m*\u001B[39mkwds)\n\u001B[0;32m    577\u001B[0m \u001B[38;5;28;01mif\u001B[39;00m chunksize \u001B[38;5;129;01mor\u001B[39;00m iterator:\n\u001B[0;32m    578\u001B[0m     \u001B[38;5;28;01mreturn\u001B[39;00m parser\n",
      "File \u001B[1;32m~\\anaconda\\envs\\py310\\lib\\site-packages\\pandas\\io\\parsers\\readers.py:933\u001B[0m, in \u001B[0;36mTextFileReader.__init__\u001B[1;34m(self, f, engine, **kwds)\u001B[0m\n\u001B[0;32m    930\u001B[0m     \u001B[38;5;28mself\u001B[39m\u001B[38;5;241m.\u001B[39moptions[\u001B[38;5;124m\"\u001B[39m\u001B[38;5;124mhas_index_names\u001B[39m\u001B[38;5;124m\"\u001B[39m] \u001B[38;5;241m=\u001B[39m kwds[\u001B[38;5;124m\"\u001B[39m\u001B[38;5;124mhas_index_names\u001B[39m\u001B[38;5;124m\"\u001B[39m]\n\u001B[0;32m    932\u001B[0m \u001B[38;5;28mself\u001B[39m\u001B[38;5;241m.\u001B[39mhandles: IOHandles \u001B[38;5;241m|\u001B[39m \u001B[38;5;28;01mNone\u001B[39;00m \u001B[38;5;241m=\u001B[39m \u001B[38;5;28;01mNone\u001B[39;00m\n\u001B[1;32m--> 933\u001B[0m \u001B[38;5;28mself\u001B[39m\u001B[38;5;241m.\u001B[39m_engine \u001B[38;5;241m=\u001B[39m \u001B[38;5;28;43mself\u001B[39;49m\u001B[38;5;241;43m.\u001B[39;49m\u001B[43m_make_engine\u001B[49m\u001B[43m(\u001B[49m\u001B[43mf\u001B[49m\u001B[43m,\u001B[49m\u001B[43m \u001B[49m\u001B[38;5;28;43mself\u001B[39;49m\u001B[38;5;241;43m.\u001B[39;49m\u001B[43mengine\u001B[49m\u001B[43m)\u001B[49m\n",
      "File \u001B[1;32m~\\anaconda\\envs\\py310\\lib\\site-packages\\pandas\\io\\parsers\\readers.py:1217\u001B[0m, in \u001B[0;36mTextFileReader._make_engine\u001B[1;34m(self, f, engine)\u001B[0m\n\u001B[0;32m   1213\u001B[0m     mode \u001B[38;5;241m=\u001B[39m \u001B[38;5;124m\"\u001B[39m\u001B[38;5;124mrb\u001B[39m\u001B[38;5;124m\"\u001B[39m\n\u001B[0;32m   1214\u001B[0m \u001B[38;5;66;03m# error: No overload variant of \"get_handle\" matches argument types\u001B[39;00m\n\u001B[0;32m   1215\u001B[0m \u001B[38;5;66;03m# \"Union[str, PathLike[str], ReadCsvBuffer[bytes], ReadCsvBuffer[str]]\"\u001B[39;00m\n\u001B[0;32m   1216\u001B[0m \u001B[38;5;66;03m# , \"str\", \"bool\", \"Any\", \"Any\", \"Any\", \"Any\", \"Any\"\u001B[39;00m\n\u001B[1;32m-> 1217\u001B[0m \u001B[38;5;28mself\u001B[39m\u001B[38;5;241m.\u001B[39mhandles \u001B[38;5;241m=\u001B[39m \u001B[43mget_handle\u001B[49m\u001B[43m(\u001B[49m\u001B[43m  \u001B[49m\u001B[38;5;66;43;03m# type: ignore[call-overload]\u001B[39;49;00m\n\u001B[0;32m   1218\u001B[0m \u001B[43m    \u001B[49m\u001B[43mf\u001B[49m\u001B[43m,\u001B[49m\n\u001B[0;32m   1219\u001B[0m \u001B[43m    \u001B[49m\u001B[43mmode\u001B[49m\u001B[43m,\u001B[49m\n\u001B[0;32m   1220\u001B[0m \u001B[43m    \u001B[49m\u001B[43mencoding\u001B[49m\u001B[38;5;241;43m=\u001B[39;49m\u001B[38;5;28;43mself\u001B[39;49m\u001B[38;5;241;43m.\u001B[39;49m\u001B[43moptions\u001B[49m\u001B[38;5;241;43m.\u001B[39;49m\u001B[43mget\u001B[49m\u001B[43m(\u001B[49m\u001B[38;5;124;43m\"\u001B[39;49m\u001B[38;5;124;43mencoding\u001B[39;49m\u001B[38;5;124;43m\"\u001B[39;49m\u001B[43m,\u001B[49m\u001B[43m \u001B[49m\u001B[38;5;28;43;01mNone\u001B[39;49;00m\u001B[43m)\u001B[49m\u001B[43m,\u001B[49m\n\u001B[0;32m   1221\u001B[0m \u001B[43m    \u001B[49m\u001B[43mcompression\u001B[49m\u001B[38;5;241;43m=\u001B[39;49m\u001B[38;5;28;43mself\u001B[39;49m\u001B[38;5;241;43m.\u001B[39;49m\u001B[43moptions\u001B[49m\u001B[38;5;241;43m.\u001B[39;49m\u001B[43mget\u001B[49m\u001B[43m(\u001B[49m\u001B[38;5;124;43m\"\u001B[39;49m\u001B[38;5;124;43mcompression\u001B[39;49m\u001B[38;5;124;43m\"\u001B[39;49m\u001B[43m,\u001B[49m\u001B[43m \u001B[49m\u001B[38;5;28;43;01mNone\u001B[39;49;00m\u001B[43m)\u001B[49m\u001B[43m,\u001B[49m\n\u001B[0;32m   1222\u001B[0m \u001B[43m    \u001B[49m\u001B[43mmemory_map\u001B[49m\u001B[38;5;241;43m=\u001B[39;49m\u001B[38;5;28;43mself\u001B[39;49m\u001B[38;5;241;43m.\u001B[39;49m\u001B[43moptions\u001B[49m\u001B[38;5;241;43m.\u001B[39;49m\u001B[43mget\u001B[49m\u001B[43m(\u001B[49m\u001B[38;5;124;43m\"\u001B[39;49m\u001B[38;5;124;43mmemory_map\u001B[39;49m\u001B[38;5;124;43m\"\u001B[39;49m\u001B[43m,\u001B[49m\u001B[43m \u001B[49m\u001B[38;5;28;43;01mFalse\u001B[39;49;00m\u001B[43m)\u001B[49m\u001B[43m,\u001B[49m\n\u001B[0;32m   1223\u001B[0m \u001B[43m    \u001B[49m\u001B[43mis_text\u001B[49m\u001B[38;5;241;43m=\u001B[39;49m\u001B[43mis_text\u001B[49m\u001B[43m,\u001B[49m\n\u001B[0;32m   1224\u001B[0m \u001B[43m    \u001B[49m\u001B[43merrors\u001B[49m\u001B[38;5;241;43m=\u001B[39;49m\u001B[38;5;28;43mself\u001B[39;49m\u001B[38;5;241;43m.\u001B[39;49m\u001B[43moptions\u001B[49m\u001B[38;5;241;43m.\u001B[39;49m\u001B[43mget\u001B[49m\u001B[43m(\u001B[49m\u001B[38;5;124;43m\"\u001B[39;49m\u001B[38;5;124;43mencoding_errors\u001B[39;49m\u001B[38;5;124;43m\"\u001B[39;49m\u001B[43m,\u001B[49m\u001B[43m \u001B[49m\u001B[38;5;124;43m\"\u001B[39;49m\u001B[38;5;124;43mstrict\u001B[39;49m\u001B[38;5;124;43m\"\u001B[39;49m\u001B[43m)\u001B[49m\u001B[43m,\u001B[49m\n\u001B[0;32m   1225\u001B[0m \u001B[43m    \u001B[49m\u001B[43mstorage_options\u001B[49m\u001B[38;5;241;43m=\u001B[39;49m\u001B[38;5;28;43mself\u001B[39;49m\u001B[38;5;241;43m.\u001B[39;49m\u001B[43moptions\u001B[49m\u001B[38;5;241;43m.\u001B[39;49m\u001B[43mget\u001B[49m\u001B[43m(\u001B[49m\u001B[38;5;124;43m\"\u001B[39;49m\u001B[38;5;124;43mstorage_options\u001B[39;49m\u001B[38;5;124;43m\"\u001B[39;49m\u001B[43m,\u001B[49m\u001B[43m \u001B[49m\u001B[38;5;28;43;01mNone\u001B[39;49;00m\u001B[43m)\u001B[49m\u001B[43m,\u001B[49m\n\u001B[0;32m   1226\u001B[0m \u001B[43m\u001B[49m\u001B[43m)\u001B[49m\n\u001B[0;32m   1227\u001B[0m \u001B[38;5;28;01massert\u001B[39;00m \u001B[38;5;28mself\u001B[39m\u001B[38;5;241m.\u001B[39mhandles \u001B[38;5;129;01mis\u001B[39;00m \u001B[38;5;129;01mnot\u001B[39;00m \u001B[38;5;28;01mNone\u001B[39;00m\n\u001B[0;32m   1228\u001B[0m f \u001B[38;5;241m=\u001B[39m \u001B[38;5;28mself\u001B[39m\u001B[38;5;241m.\u001B[39mhandles\u001B[38;5;241m.\u001B[39mhandle\n",
      "File \u001B[1;32m~\\anaconda\\envs\\py310\\lib\\site-packages\\pandas\\io\\common.py:789\u001B[0m, in \u001B[0;36mget_handle\u001B[1;34m(path_or_buf, mode, encoding, compression, memory_map, is_text, errors, storage_options)\u001B[0m\n\u001B[0;32m    784\u001B[0m \u001B[38;5;28;01melif\u001B[39;00m \u001B[38;5;28misinstance\u001B[39m(handle, \u001B[38;5;28mstr\u001B[39m):\n\u001B[0;32m    785\u001B[0m     \u001B[38;5;66;03m# Check whether the filename is to be opened in binary mode.\u001B[39;00m\n\u001B[0;32m    786\u001B[0m     \u001B[38;5;66;03m# Binary mode does not support 'encoding' and 'newline'.\u001B[39;00m\n\u001B[0;32m    787\u001B[0m     \u001B[38;5;28;01mif\u001B[39;00m ioargs\u001B[38;5;241m.\u001B[39mencoding \u001B[38;5;129;01mand\u001B[39;00m \u001B[38;5;124m\"\u001B[39m\u001B[38;5;124mb\u001B[39m\u001B[38;5;124m\"\u001B[39m \u001B[38;5;129;01mnot\u001B[39;00m \u001B[38;5;129;01min\u001B[39;00m ioargs\u001B[38;5;241m.\u001B[39mmode:\n\u001B[0;32m    788\u001B[0m         \u001B[38;5;66;03m# Encoding\u001B[39;00m\n\u001B[1;32m--> 789\u001B[0m         handle \u001B[38;5;241m=\u001B[39m \u001B[38;5;28;43mopen\u001B[39;49m\u001B[43m(\u001B[49m\n\u001B[0;32m    790\u001B[0m \u001B[43m            \u001B[49m\u001B[43mhandle\u001B[49m\u001B[43m,\u001B[49m\n\u001B[0;32m    791\u001B[0m \u001B[43m            \u001B[49m\u001B[43mioargs\u001B[49m\u001B[38;5;241;43m.\u001B[39;49m\u001B[43mmode\u001B[49m\u001B[43m,\u001B[49m\n\u001B[0;32m    792\u001B[0m \u001B[43m            \u001B[49m\u001B[43mencoding\u001B[49m\u001B[38;5;241;43m=\u001B[39;49m\u001B[43mioargs\u001B[49m\u001B[38;5;241;43m.\u001B[39;49m\u001B[43mencoding\u001B[49m\u001B[43m,\u001B[49m\n\u001B[0;32m    793\u001B[0m \u001B[43m            \u001B[49m\u001B[43merrors\u001B[49m\u001B[38;5;241;43m=\u001B[39;49m\u001B[43merrors\u001B[49m\u001B[43m,\u001B[49m\n\u001B[0;32m    794\u001B[0m \u001B[43m            \u001B[49m\u001B[43mnewline\u001B[49m\u001B[38;5;241;43m=\u001B[39;49m\u001B[38;5;124;43m\"\u001B[39;49m\u001B[38;5;124;43m\"\u001B[39;49m\u001B[43m,\u001B[49m\n\u001B[0;32m    795\u001B[0m \u001B[43m        \u001B[49m\u001B[43m)\u001B[49m\n\u001B[0;32m    796\u001B[0m     \u001B[38;5;28;01melse\u001B[39;00m:\n\u001B[0;32m    797\u001B[0m         \u001B[38;5;66;03m# Binary mode\u001B[39;00m\n\u001B[0;32m    798\u001B[0m         handle \u001B[38;5;241m=\u001B[39m \u001B[38;5;28mopen\u001B[39m(handle, ioargs\u001B[38;5;241m.\u001B[39mmode)\n",
      "\u001B[1;31mFileNotFoundError\u001B[0m: [Errno 2] No such file or directory: 'Examples/data/lumped/meteo_data-MSWEP.csv'"
     ]
    }
   ],
   "source": [
    "start = \"2009-01-01\"\n",
    "end = \"2011-12-31\"\n",
    "name = \"Coello\"\n",
    "\n",
    "Coello = Calibration(name, start, end)\n",
    "Coello.ReadLumpedInputs(MeteoDataPath)"
   ]
  },
  {
   "cell_type": "markdown",
   "id": "eccbe8ee",
   "metadata": {},
   "source": [
    "### Basic_inputs"
   ]
  },
  {
   "cell_type": "code",
   "execution_count": 7,
   "id": "f29da93b",
   "metadata": {},
   "outputs": [
    {
     "name": "stdout",
     "output_type": "stream",
     "text": [
      "Lumped model is read successfully\n"
     ]
    }
   ],
   "source": [
    "# catchment area\n",
    "AreaCoeff = 1530\n",
    "# temporal resolution\n",
    "# [Snow pack, Soil moisture, Upper zone, Lower Zone, Water content]\n",
    "InitialCond = [0, 10, 10, 10, 0]\n",
    "# no snow subroutine\n",
    "Snow = 0\n",
    "Coello.ReadLumpedModel(HBVLumped, AreaCoeff, InitialCond)"
   ]
  },
  {
   "cell_type": "markdown",
   "id": "623019fd",
   "metadata": {},
   "source": [
    "# Calibration parameters"
   ]
  },
  {
   "cell_type": "code",
   "execution_count": 12,
   "id": "7db2ce2d",
   "metadata": {},
   "outputs": [
    {
     "name": "stdout",
     "output_type": "stream",
     "text": [
      "Parameters bounds are read successfully\n",
      "Gauges data are read successfully\n",
      "Objective function is read successfully\n"
     ]
    }
   ],
   "source": [
    "# Calibration boundaries\n",
    "UB = pd.read_csv(Path + \"/lumped/UB-3.txt\", index_col=0, header=None)\n",
    "parnames = UB.index\n",
    "UB = UB[1].tolist()\n",
    "LB = pd.read_csv(Path + \"/lumped/LB-3.txt\", index_col=0, header=None)\n",
    "LB = LB[1].tolist()\n",
    "\n",
    "Maxbas = True\n",
    "Coello.ReadParametersBounds(UB, LB, Snow, Maxbas=Maxbas)"
   ]
  },
  {
   "cell_type": "markdown",
   "id": "718fd2f2-baa3-409b-ab63-dee645f70398",
   "metadata": {},
   "source": [
    "### Additional arguments"
   ]
  },
  {
   "cell_type": "code",
   "execution_count": 9,
   "id": "50364d63-f5d0-421b-afef-f901f54ade93",
   "metadata": {},
   "outputs": [],
   "source": [
    "parameters = []\n",
    "# Routing\n",
    "Route = 1\n",
    "RoutingFn = Routing.TriangularRouting1\n",
    "\n",
    "Basic_inputs = dict(Route=Route, RoutingFn=RoutingFn, InitialValues=parameters)"
   ]
  },
  {
   "cell_type": "markdown",
   "id": "ebf575cc-b095-4adc-94f5-649672244853",
   "metadata": {},
   "source": [
    "### Objective function"
   ]
  },
  {
   "cell_type": "code",
   "execution_count": 11,
   "id": "4705d8b5-127f-4756-9163-1eec1d2678d9",
   "metadata": {},
   "outputs": [
    {
     "name": "stdout",
     "output_type": "stream",
     "text": [
      "Gauges data are read successfully\n",
      "Objective function is read successfully\n"
     ]
    }
   ],
   "source": [
    "# outlet discharge\n",
    "Coello.ReadDischargeGauges(Path + \"Qout_c.csv\", fmt=\"%Y-%m-%d\")\n",
    "\n",
    "OF_args = []\n",
    "OF = PC.RMSE\n",
    "\n",
    "Coello.ReadObjectiveFn(PC.RMSE, OF_args)"
   ]
  },
  {
   "cell_type": "markdown",
   "id": "baebdf63",
   "metadata": {},
   "source": [
    "# Calibration"
   ]
  },
  {
   "cell_type": "markdown",
   "id": "a4e2b6e5",
   "metadata": {},
   "source": [
    "API options\n",
    "Create the options dictionary all the optimization parameters should be passed\n",
    "to the optimization object inside the option dictionary:\n",
    "\n",
    "\n",
    "to see all options import Optimizer class and check the documentation of the\n",
    "method setOption"
   ]
  },
  {
   "cell_type": "code",
   "execution_count": 12,
   "id": "42e7aaea",
   "metadata": {},
   "outputs": [
    {
     "name": "stdout",
     "output_type": "stream",
     "text": [
      "hms 100\n",
      "hmcr 0.95\n",
      "par 0.65\n",
      "dbw 2000\n",
      "fileout 1\n",
      "xinit 0\n",
      "filename F:/01Algorithms/Hydrology/HAPI/Examples/data/lumped//Lumped_History2021-05-15.txt\n"
     ]
    }
   ],
   "source": [
    "ApiObjArgs = dict(hms=100, hmcr=0.95, par=0.65, dbw=2000, fileout=1, xinit=0,\n",
    "                  filename=Path + \"/Lumped_History\" + str(dt.datetime.now())[0:10] + \".txt\")\n",
    "\n",
    "for i in range(len(ApiObjArgs)):\n",
    "    print(list(ApiObjArgs.keys())[i], str(ApiObjArgs[list(ApiObjArgs.keys())[i]]))\n",
    "\n",
    "# pll_type = 'POA'\n",
    "pll_type = None\n",
    "\n",
    "ApiSolveArgs = dict(store_sol=True, display_opts=True, store_hst=True, hot_start=False)\n",
    "\n",
    "OptimizationArgs = [ApiObjArgs, pll_type, ApiSolveArgs]"
   ]
  },
  {
   "cell_type": "markdown",
   "id": "78e02f69",
   "metadata": {},
   "source": [
    "### Run Calibration"
   ]
  },
  {
   "cell_type": "code",
   "execution_count": null,
   "id": "8712eeda-097d-46cb-821d-5e53918c15ce",
   "metadata": {},
   "outputs": [],
   "source": [
    "cal_parameters = Coello.LumpedCalibration(Basic_inputs, OptimizationArgs, printError=None)\n",
    "\n",
    "print(\"Objective Function = \" + str(round(cal_parameters[0], 2)))\n",
    "print(\"Parameters are \" + str(cal_parameters[1]))\n",
    "print(\"Time = \" + str(round(cal_parameters[2]['time'] / 60, 2)) + \" min\")"
   ]
  },
  {
   "cell_type": "code",
   "execution_count": null,
   "id": "8cb40098-5ace-40c8-8782-721570f7cbb0",
   "metadata": {},
   "outputs": [],
   "source": [
    "cal_parameters[2]['time']"
   ]
  },
  {
   "cell_type": "markdown",
   "id": "deddd63a",
   "metadata": {},
   "source": [
    "### Run the Model"
   ]
  },
  {
   "cell_type": "code",
   "execution_count": null,
   "id": "5674017b",
   "metadata": {},
   "outputs": [],
   "source": [
    "Coello.Parameters = cal_parameters[1]\n",
    "Run.RunLumped(Coello, Route, RoutingFn)"
   ]
  },
  {
   "cell_type": "markdown",
   "id": "a22f97e8",
   "metadata": {},
   "source": [
    "### Calculate Performance Criteria"
   ]
  },
  {
   "cell_type": "code",
   "execution_count": null,
   "id": "f372b9a6",
   "metadata": {},
   "outputs": [],
   "source": [
    "Metrics = dict()\n",
    "\n",
    "Qobs = Coello.QGauges[Coello.QGauges.columns[0]]\n",
    "\n",
    "Metrics['RMSE'] = PC.RMSE(Qobs, Coello.Qsim['q'])\n",
    "Metrics['NSE'] = PC.NSE(Qobs, Coello.Qsim['q'])\n",
    "Metrics['NSEhf'] = PC.NSEHF(Qobs, Coello.Qsim['q'])\n",
    "Metrics['KGE'] = PC.KGE(Qobs, Coello.Qsim['q'])\n",
    "Metrics['WB'] = PC.WB(Qobs, Coello.Qsim['q'])\n",
    "\n",
    "print(\"RMSE= \" + str(round(Metrics['RMSE'], 2)))\n",
    "print(\"NSE= \" + str(round(Metrics['NSE'], 2)))\n",
    "print(\"NSEhf= \" + str(round(Metrics['NSEhf'], 2)))\n",
    "print(\"KGE= \" + str(round(Metrics['KGE'], 2)))\n",
    "print(\"WB= \" + str(round(Metrics['WB'], 2)))"
   ]
  },
  {
   "cell_type": "markdown",
   "id": "dd845231",
   "metadata": {},
   "source": [
    "### Plotting Hydrograph"
   ]
  },
  {
   "cell_type": "code",
   "execution_count": null,
   "id": "09268e7d",
   "metadata": {},
   "outputs": [],
   "source": [
    "gaugei = 0\n",
    "plotstart = \"2009-01-01\"\n",
    "plotend = \"2011-12-31\"\n",
    "Coello.PlotHydrograph(plotstart, plotend, gaugei, Title=\"Lumped Model\")"
   ]
  },
  {
   "cell_type": "markdown",
   "id": "249dc415",
   "metadata": {},
   "source": [
    "### Save the Parameters"
   ]
  },
  {
   "cell_type": "code",
   "execution_count": null,
   "id": "0ec9ee5d",
   "metadata": {},
   "outputs": [],
   "source": [
    "ParPath = Path + \"Parameters\" + str(dt.datetime.now())[0:10] + \".txt\"\n",
    "parameters = pd.DataFrame(index=parnames)\n",
    "parameters['values'] = cal_parameters[1]\n",
    "parameters.to_csv(ParPath, header=None, float_format=\"%0.4f\")"
   ]
  },
  {
   "cell_type": "markdown",
   "id": "30c36ce1-4cee-4c20-b368-7ffe4b69cdd7",
   "metadata": {},
   "source": [
    "### Save Results"
   ]
  },
  {
   "cell_type": "code",
   "execution_count": null,
   "id": "3007b8a1-627f-4e88-b036-756f7cdedb9f",
   "metadata": {},
   "outputs": [],
   "source": [
    "StartDate = \"2009-01-01\"\n",
    "EndDate = \"2010-04-20\"\n",
    "\n",
    "Path = Path + \"Results-Lumped-Model\" + str(dt.datetime.now())[0:10] + \".txt\"\n",
    "Coello.SaveResults(Result=5, StartDate=StartDate, EndDate=EndDate, Path=Path)"
   ]
  }
 ],
 "metadata": {
  "kernelspec": {
   "name": "pycharm-cd49064f",
   "language": "python",
   "display_name": "PyCharm (Hapi)"
  },
  "language_info": {
   "codemirror_mode": {
    "name": "ipython",
    "version": 3
   },
   "file_extension": ".py",
   "mimetype": "text/x-python",
   "name": "python",
   "nbconvert_exporter": "python",
   "pygments_lexer": "ipython3",
   "version": "3.8.10"
  }
 },
 "nbformat": 4,
 "nbformat_minor": 5
}