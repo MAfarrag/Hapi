{
 "nbformat": 4,
 "nbformat_minor": 0,
 "metadata": {
  "colab": {
   "name": "Jiboa-colab.ipynb",
   "provenance": [],
   "collapsed_sections": [],
   "toc_visible": true
  },
  "kernelspec": {
   "display_name": "Python 3",
   "language": "python",
   "name": "python3"
  },
  "language_info": {
   "codemirror_mode": {
    "name": "ipython",
    "version": 3
   },
   "file_extension": ".py",
   "mimetype": "text/x-python",
   "name": "python",
   "nbconvert_exporter": "python",
   "pygments_lexer": "ipython3",
   "version": "3.7.4"
  }
 },
 "cells": [
  {
   "cell_type": "markdown",
   "metadata": {
    "id": "M3wlmF0_eaWn"
   },
   "source": [
    "# Jiboa Case Study"
   ]
  },
  {
   "cell_type": "markdown",
   "metadata": {
    "id": "zf0ye029eaWq"
   },
   "source": [
    "This code is prepared to Run the distributed model for jiboa rover in El Salvador\n",
    "wher the catchment is consisted os a ustream lake and a volcanic area\n",
    "-   you have to make the root directory to the examples folder to enable the code\n",
    "    from reading input files"
   ]
  },
  {
   "cell_type": "code",
   "metadata": {
    "colab": {
     "base_uri": "https://localhost:8080/"
    },
    "id": "lppgfy9UBhAk",
    "outputId": "fda23dfc-c1c1-4afd-84ef-1ce7c6085da4"
   },
   "source": [
    "! pip install gdal\n",
    "! pip install affine\n",
    "! pip install fiona\n",
    "! pip install proj\n",
    "! pip install pyproj\n",
    "! pip install pandas\n",
    "! pip install geopandas\n",
    "! pip install matplotlib-base\n",
    "! pip install python\n",
    "! pip install scipy\n",
    "! pip install shapely\n",
    "! pip install statsmodels\n",
    "! pip install rasterio\n",
    "! pip install rasterstats\n",
    "! pip install oasis\n",
    "! pip install netCDF4\n",
    "! pip install scikit-learn\n",
    "! pip install scikit-image\n",
    "! pip install ecmwf-api-client\n",
    "! pip install joblib\n",
    "!pip install git+https://github.com/MAfarrag/HAPI.git"
   ],
   "execution_count": 43,
   "outputs": [
    {
     "output_type": "stream",
     "text": [
      "Requirement already satisfied: gdal in /usr/local/lib/python3.7/dist-packages (2.2.2)\n",
      "Requirement already satisfied: affine in /usr/local/lib/python3.7/dist-packages (2.3.0)\n",
      "Requirement already satisfied: fiona in /usr/local/lib/python3.7/dist-packages (1.8.19)\n",
      "Requirement already satisfied: six>=1.7 in /usr/local/lib/python3.7/dist-packages (from fiona) (1.15.0)\n",
      "Requirement already satisfied: click-plugins>=1.0 in /usr/local/lib/python3.7/dist-packages (from fiona) (1.1.1)\n",
      "Requirement already satisfied: click<8,>=4.0 in /usr/local/lib/python3.7/dist-packages (from fiona) (7.1.2)\n",
      "Requirement already satisfied: cligj>=0.5 in /usr/local/lib/python3.7/dist-packages (from fiona) (0.7.1)\n",
      "Requirement already satisfied: attrs>=17 in /usr/local/lib/python3.7/dist-packages (from fiona) (20.3.0)\n",
      "Requirement already satisfied: certifi in /usr/local/lib/python3.7/dist-packages (from fiona) (2020.12.5)\n",
      "Requirement already satisfied: munch in /usr/local/lib/python3.7/dist-packages (from fiona) (2.5.0)\n",
      "Requirement already satisfied: proj in /usr/local/lib/python3.7/dist-packages (0.2.0)\n",
      "Requirement already satisfied: arrow>=0.15.6 in /usr/local/lib/python3.7/dist-packages (from proj) (1.0.3)\n",
      "Requirement already satisfied: click>=7.1.2 in /usr/local/lib/python3.7/dist-packages (from proj) (7.1.2)\n",
      "Requirement already satisfied: python-dateutil>=2.7.0 in /usr/local/lib/python3.7/dist-packages (from arrow>=0.15.6->proj) (2.8.1)\n",
      "Requirement already satisfied: typing-extensions; python_version < \"3.8\" in /usr/local/lib/python3.7/dist-packages (from arrow>=0.15.6->proj) (3.7.4.3)\n",
      "Requirement already satisfied: six>=1.5 in /usr/local/lib/python3.7/dist-packages (from python-dateutil>=2.7.0->arrow>=0.15.6->proj) (1.15.0)\n",
      "Requirement already satisfied: pyproj in /usr/local/lib/python3.7/dist-packages (3.0.1)\n",
      "Requirement already satisfied: certifi in /usr/local/lib/python3.7/dist-packages (from pyproj) (2020.12.5)\n",
      "Requirement already satisfied: pandas in /usr/local/lib/python3.7/dist-packages (1.1.5)\n",
      "Requirement already satisfied: numpy>=1.15.4 in /usr/local/lib/python3.7/dist-packages (from pandas) (1.19.5)\n",
      "Requirement already satisfied: pytz>=2017.2 in /usr/local/lib/python3.7/dist-packages (from pandas) (2018.9)\n",
      "Requirement already satisfied: python-dateutil>=2.7.3 in /usr/local/lib/python3.7/dist-packages (from pandas) (2.8.1)\n",
      "Requirement already satisfied: six>=1.5 in /usr/local/lib/python3.7/dist-packages (from python-dateutil>=2.7.3->pandas) (1.15.0)\n",
      "Requirement already satisfied: geopandas in /usr/local/lib/python3.7/dist-packages (0.9.0)\n",
      "Requirement already satisfied: pyproj>=2.2.0 in /usr/local/lib/python3.7/dist-packages (from geopandas) (3.0.1)\n",
      "Requirement already satisfied: pandas>=0.24.0 in /usr/local/lib/python3.7/dist-packages (from geopandas) (1.1.5)\n",
      "Requirement already satisfied: fiona>=1.8 in /usr/local/lib/python3.7/dist-packages (from geopandas) (1.8.19)\n",
      "Requirement already satisfied: shapely>=1.6 in /usr/local/lib/python3.7/dist-packages (from geopandas) (1.7.1)\n",
      "Requirement already satisfied: certifi in /usr/local/lib/python3.7/dist-packages (from pyproj>=2.2.0->geopandas) (2020.12.5)\n",
      "Requirement already satisfied: pytz>=2017.2 in /usr/local/lib/python3.7/dist-packages (from pandas>=0.24.0->geopandas) (2018.9)\n",
      "Requirement already satisfied: numpy>=1.15.4 in /usr/local/lib/python3.7/dist-packages (from pandas>=0.24.0->geopandas) (1.19.5)\n",
      "Requirement already satisfied: python-dateutil>=2.7.3 in /usr/local/lib/python3.7/dist-packages (from pandas>=0.24.0->geopandas) (2.8.1)\n",
      "Requirement already satisfied: click-plugins>=1.0 in /usr/local/lib/python3.7/dist-packages (from fiona>=1.8->geopandas) (1.1.1)\n",
      "Requirement already satisfied: cligj>=0.5 in /usr/local/lib/python3.7/dist-packages (from fiona>=1.8->geopandas) (0.7.1)\n",
      "Requirement already satisfied: six>=1.7 in /usr/local/lib/python3.7/dist-packages (from fiona>=1.8->geopandas) (1.15.0)\n",
      "Requirement already satisfied: click<8,>=4.0 in /usr/local/lib/python3.7/dist-packages (from fiona>=1.8->geopandas) (7.1.2)\n",
      "Requirement already satisfied: munch in /usr/local/lib/python3.7/dist-packages (from fiona>=1.8->geopandas) (2.5.0)\n",
      "Requirement already satisfied: attrs>=17 in /usr/local/lib/python3.7/dist-packages (from fiona>=1.8->geopandas) (20.3.0)\n",
      "\u001B[31mERROR: Could not find a version that satisfies the requirement matplotlib-base (from versions: none)\u001B[0m\n",
      "\u001B[31mERROR: No matching distribution found for matplotlib-base\u001B[0m\n",
      "\u001B[31mERROR: Could not find a version that satisfies the requirement python (from versions: none)\u001B[0m\n",
      "\u001B[31mERROR: No matching distribution found for python\u001B[0m\n",
      "Requirement already satisfied: scipy in /usr/local/lib/python3.7/dist-packages (1.4.1)\n",
      "Requirement already satisfied: numpy>=1.13.3 in /usr/local/lib/python3.7/dist-packages (from scipy) (1.19.5)\n",
      "Requirement already satisfied: shapely in /usr/local/lib/python3.7/dist-packages (1.7.1)\n",
      "Requirement already satisfied: statsmodels in /usr/local/lib/python3.7/dist-packages (0.10.2)\n",
      "Requirement already satisfied: scipy>=0.18 in /usr/local/lib/python3.7/dist-packages (from statsmodels) (1.4.1)\n",
      "Requirement already satisfied: numpy>=1.11 in /usr/local/lib/python3.7/dist-packages (from statsmodels) (1.19.5)\n",
      "Requirement already satisfied: pandas>=0.19 in /usr/local/lib/python3.7/dist-packages (from statsmodels) (1.1.5)\n",
      "Requirement already satisfied: patsy>=0.4.0 in /usr/local/lib/python3.7/dist-packages (from statsmodels) (0.5.1)\n",
      "Requirement already satisfied: pytz>=2017.2 in /usr/local/lib/python3.7/dist-packages (from pandas>=0.19->statsmodels) (2018.9)\n",
      "Requirement already satisfied: python-dateutil>=2.7.3 in /usr/local/lib/python3.7/dist-packages (from pandas>=0.19->statsmodels) (2.8.1)\n",
      "Requirement already satisfied: six in /usr/local/lib/python3.7/dist-packages (from patsy>=0.4.0->statsmodels) (1.15.0)\n",
      "Requirement already satisfied: rasterio in /usr/local/lib/python3.7/dist-packages (1.2.2)\n",
      "Requirement already satisfied: cligj>=0.5 in /usr/local/lib/python3.7/dist-packages (from rasterio) (0.7.1)\n",
      "Requirement already satisfied: click<8,>=4.0 in /usr/local/lib/python3.7/dist-packages (from rasterio) (7.1.2)\n",
      "Requirement already satisfied: snuggs>=1.4.1 in /usr/local/lib/python3.7/dist-packages (from rasterio) (1.4.7)\n",
      "Requirement already satisfied: attrs in /usr/local/lib/python3.7/dist-packages (from rasterio) (20.3.0)\n",
      "Requirement already satisfied: certifi in /usr/local/lib/python3.7/dist-packages (from rasterio) (2020.12.5)\n",
      "Requirement already satisfied: affine in /usr/local/lib/python3.7/dist-packages (from rasterio) (2.3.0)\n",
      "Requirement already satisfied: click-plugins in /usr/local/lib/python3.7/dist-packages (from rasterio) (1.1.1)\n",
      "Requirement already satisfied: numpy in /usr/local/lib/python3.7/dist-packages (from rasterio) (1.19.5)\n",
      "Requirement already satisfied: pyparsing>=2.1.6 in /usr/local/lib/python3.7/dist-packages (from snuggs>=1.4.1->rasterio) (2.4.7)\n",
      "Requirement already satisfied: rasterstats in /usr/local/lib/python3.7/dist-packages (0.15.0)\n",
      "Requirement already satisfied: rasterio>=1.0 in /usr/local/lib/python3.7/dist-packages (from rasterstats) (1.2.2)\n",
      "Requirement already satisfied: shapely in /usr/local/lib/python3.7/dist-packages (from rasterstats) (1.7.1)\n",
      "Requirement already satisfied: numpy>=1.9 in /usr/local/lib/python3.7/dist-packages (from rasterstats) (1.19.5)\n",
      "Requirement already satisfied: affine<3.0 in /usr/local/lib/python3.7/dist-packages (from rasterstats) (2.3.0)\n",
      "Requirement already satisfied: cligj>=0.4 in /usr/local/lib/python3.7/dist-packages (from rasterstats) (0.7.1)\n",
      "Requirement already satisfied: simplejson in /usr/local/lib/python3.7/dist-packages (from rasterstats) (3.17.2)\n",
      "Requirement already satisfied: fiona in /usr/local/lib/python3.7/dist-packages (from rasterstats) (1.8.19)\n",
      "Requirement already satisfied: certifi in /usr/local/lib/python3.7/dist-packages (from rasterio>=1.0->rasterstats) (2020.12.5)\n",
      "Requirement already satisfied: attrs in /usr/local/lib/python3.7/dist-packages (from rasterio>=1.0->rasterstats) (20.3.0)\n",
      "Requirement already satisfied: click<8,>=4.0 in /usr/local/lib/python3.7/dist-packages (from rasterio>=1.0->rasterstats) (7.1.2)\n",
      "Requirement already satisfied: click-plugins in /usr/local/lib/python3.7/dist-packages (from rasterio>=1.0->rasterstats) (1.1.1)\n",
      "Requirement already satisfied: snuggs>=1.4.1 in /usr/local/lib/python3.7/dist-packages (from rasterio>=1.0->rasterstats) (1.4.7)\n",
      "Requirement already satisfied: six>=1.7 in /usr/local/lib/python3.7/dist-packages (from fiona->rasterstats) (1.15.0)\n",
      "Requirement already satisfied: munch in /usr/local/lib/python3.7/dist-packages (from fiona->rasterstats) (2.5.0)\n",
      "Requirement already satisfied: pyparsing>=2.1.6 in /usr/local/lib/python3.7/dist-packages (from snuggs>=1.4.1->rasterio>=1.0->rasterstats) (2.4.7)\n",
      "Requirement already satisfied: oasis in /usr/local/lib/python3.7/dist-packages (0.1.2)\n",
      "Requirement already satisfied: sklearn in /usr/local/lib/python3.7/dist-packages (from oasis) (0.0)\n",
      "Requirement already satisfied: numpy in /usr/local/lib/python3.7/dist-packages (from oasis) (1.19.5)\n",
      "Requirement already satisfied: tables in /usr/local/lib/python3.7/dist-packages (from oasis) (3.4.4)\n",
      "Requirement already satisfied: scipy in /usr/local/lib/python3.7/dist-packages (from oasis) (1.4.1)\n",
      "Requirement already satisfied: scikit-learn in /usr/local/lib/python3.7/dist-packages (from sklearn->oasis) (0.22.2.post1)\n",
      "Requirement already satisfied: numexpr>=2.5.2 in /usr/local/lib/python3.7/dist-packages (from tables->oasis) (2.7.3)\n",
      "Requirement already satisfied: six>=1.9.0 in /usr/local/lib/python3.7/dist-packages (from tables->oasis) (1.15.0)\n",
      "Requirement already satisfied: joblib>=0.11 in /usr/local/lib/python3.7/dist-packages (from scikit-learn->sklearn->oasis) (1.0.1)\n",
      "Requirement already satisfied: netCDF4 in /usr/local/lib/python3.7/dist-packages (1.5.6)\n",
      "Requirement already satisfied: cftime in /usr/local/lib/python3.7/dist-packages (from netCDF4) (1.4.1)\n",
      "Requirement already satisfied: numpy>=1.9 in /usr/local/lib/python3.7/dist-packages (from netCDF4) (1.19.5)\n",
      "Requirement already satisfied: scikit-learn in /usr/local/lib/python3.7/dist-packages (0.22.2.post1)\n",
      "Requirement already satisfied: joblib>=0.11 in /usr/local/lib/python3.7/dist-packages (from scikit-learn) (1.0.1)\n",
      "Requirement already satisfied: numpy>=1.11.0 in /usr/local/lib/python3.7/dist-packages (from scikit-learn) (1.19.5)\n",
      "Requirement already satisfied: scipy>=0.17.0 in /usr/local/lib/python3.7/dist-packages (from scikit-learn) (1.4.1)\n",
      "Requirement already satisfied: scikit-image in /usr/local/lib/python3.7/dist-packages (0.16.2)\n",
      "Requirement already satisfied: matplotlib!=3.0.0,>=2.0.0 in /usr/local/lib/python3.7/dist-packages (from scikit-image) (3.2.2)\n",
      "Requirement already satisfied: networkx>=2.0 in /usr/local/lib/python3.7/dist-packages (from scikit-image) (2.5.1)\n",
      "Requirement already satisfied: imageio>=2.3.0 in /usr/local/lib/python3.7/dist-packages (from scikit-image) (2.4.1)\n",
      "Requirement already satisfied: scipy>=0.19.0 in /usr/local/lib/python3.7/dist-packages (from scikit-image) (1.4.1)\n",
      "Requirement already satisfied: pillow>=4.3.0 in /usr/local/lib/python3.7/dist-packages (from scikit-image) (7.1.2)\n",
      "Requirement already satisfied: PyWavelets>=0.4.0 in /usr/local/lib/python3.7/dist-packages (from scikit-image) (1.1.1)\n",
      "Requirement already satisfied: kiwisolver>=1.0.1 in /usr/local/lib/python3.7/dist-packages (from matplotlib!=3.0.0,>=2.0.0->scikit-image) (1.3.1)\n",
      "Requirement already satisfied: cycler>=0.10 in /usr/local/lib/python3.7/dist-packages (from matplotlib!=3.0.0,>=2.0.0->scikit-image) (0.10.0)\n",
      "Requirement already satisfied: python-dateutil>=2.1 in /usr/local/lib/python3.7/dist-packages (from matplotlib!=3.0.0,>=2.0.0->scikit-image) (2.8.1)\n",
      "Requirement already satisfied: numpy>=1.11 in /usr/local/lib/python3.7/dist-packages (from matplotlib!=3.0.0,>=2.0.0->scikit-image) (1.19.5)\n",
      "Requirement already satisfied: pyparsing!=2.0.4,!=2.1.2,!=2.1.6,>=2.0.1 in /usr/local/lib/python3.7/dist-packages (from matplotlib!=3.0.0,>=2.0.0->scikit-image) (2.4.7)\n",
      "Requirement already satisfied: decorator<5,>=4.3 in /usr/local/lib/python3.7/dist-packages (from networkx>=2.0->scikit-image) (4.4.2)\n",
      "Requirement already satisfied: six in /usr/local/lib/python3.7/dist-packages (from cycler>=0.10->matplotlib!=3.0.0,>=2.0.0->scikit-image) (1.15.0)\n",
      "Requirement already satisfied: ecmwf-api-client in /usr/local/lib/python3.7/dist-packages (1.6.1)\n",
      "Requirement already satisfied: joblib in /usr/local/lib/python3.7/dist-packages (1.0.1)\n",
      "Collecting git+https://github.com/MAfarrag/HAPI.git\n",
      "  Cloning https://github.com/MAfarrag/HAPI.git to /tmp/pip-req-build-tjyqbr5z\n",
      "  Running command git clone -q https://github.com/MAfarrag/HAPI.git /tmp/pip-req-build-tjyqbr5z\n",
      "Requirement already satisfied (use --upgrade to upgrade): HAPI-Nile==1.0.4 from git+https://github.com/MAfarrag/HAPI.git in /usr/local/lib/python3.7/dist-packages\n",
      "Building wheels for collected packages: HAPI-Nile\n",
      "  Building wheel for HAPI-Nile (setup.py) ... \u001B[?25l\u001B[?25hdone\n",
      "  Created wheel for HAPI-Nile: filename=HAPI_Nile-1.0.4-cp37-none-any.whl size=16849817 sha256=f186987e4dd46c06739f3319f1577b651a487b5bdf2e1e5e9f8882522a487359\n",
      "  Stored in directory: /tmp/pip-ephem-wheel-cache-bav1y46k/wheels/01/64/ed/1b6002951ba52502516f59c8ec8081033e6c0ec59dff2c4424\n",
      "Successfully built HAPI-Nile\n"
     ],
     "name": "stdout"
    }
   ]
  },
  {
   "cell_type": "code",
   "metadata": {
    "colab": {
     "base_uri": "https://localhost:8080/"
    },
    "id": "VX1HFGcwfhEJ",
    "outputId": "2fe591f8-5ff6-40e8-c119-172c9136f7b1"
   },
   "source": [
    "from google.colab import drive\n",
    "drive.mount('/content/drive')"
   ],
   "execution_count": 44,
   "outputs": [
    {
     "output_type": "stream",
     "text": [
      "Drive already mounted at /content/drive; to attempt to forcibly remount, call drive.mount(\"/content/drive\", force_remount=True).\n"
     ],
     "name": "stdout"
    }
   ]
  },
  {
   "cell_type": "markdown",
   "metadata": {
    "id": "cY-rs6ngeaWs"
   },
   "source": [
    "### Download Data\n",
    "For the data of this case study you have to download this folder [Jiboa Data](https://drive.google.com/drive/folders/1uyd9mH8pHHUKK9l3bc7QXlsu4EPwy3Mr?usp=sharing) from Google Drive and set it as the working directory instead of the Path defined in the next cell"
   ]
  },
  {
   "cell_type": "markdown",
   "metadata": {
    "id": "9UYKOoK5eaWt"
   },
   "source": [
    "## Import modules"
   ]
  },
  {
   "cell_type": "code",
   "metadata": {
    "id": "2qyOyPa3P4dc"
   },
   "source": [
    "#libraries\n",
    "import numpy as np\n",
    "import datetime as dt\n",
    "\n",
    "# HAPI modules\n",
    "from Hapi.run import Run\n",
    "from Hapi.catchment import Catchment, Lake\n",
    "import Hapi.rrm.hbv as HBV\n",
    "import Hapi.rrm.hbv_lake as HBVLake\n",
    "import Hapi.sm.performancecriteria as Pf"
   ],
   "execution_count": 46,
   "outputs": []
  },
  {
   "cell_type": "code",
   "metadata": {
    "id": "d8GNCaxR4dGw"
   },
   "source": [
    "import os\n",
    "Path = \"/content/drive/My Drive/Hapi/Jiboa/El Salvador/\"\n",
    "\n",
    "os.chdir(Path)"
   ],
   "execution_count": 48,
   "outputs": []
  },
  {
   "cell_type": "code",
   "metadata": {
    "id": "yA4538SsP2r4"
   },
   "source": [
    "res = 4000"
   ],
   "execution_count": 49,
   "outputs": []
  },
  {
   "cell_type": "code",
   "metadata": {
    "id": "hUTUchZneaWv"
   },
   "source": [
    "# the beginning of the simulation of the calibration data\n",
    "PrecPath = Path + \"inputs/Hapi/meteodata/\"+str(res)+\"/calib/\"\n",
    "Evap_Path = Path + \"inputs/Hapi/meteodata/\"+str(res)+\"/calib/\"\n",
    "TempPath = Path + \"inputs/Hapi/meteodata/\"+str(res)+\"/calib/\"\n",
    "FlowAccPath = Path + \"inputs/Hapi/GIS/\"+str(res)+\"_matched/acc\"+str(res)+\".tif\"\n",
    "FlowDPath = Path + \"inputs/Hapi/GIS/\"+str(res)+\"_matched/fd\"+str(res)+\".tif\"\n",
    "ParPath = Path + \"inputs/Hapi/meteodata/\"+str(res)+\"/parameters/\"\n",
    "# Lake\n",
    "LakeMeteoPath = Path + \"inputs/Hapi/meteodata/lakedata.csv\"\n",
    "LakeParametersPath = Path + \"inputs/Hapi/meteodata/\"+str(res)+\"/Lakeparameters.txt\"\n",
    "GaugesPath = Path + \"inputs/Hapi/meteodata/Gauges/\"\n",
    "SaveTo = Path + \"results/\""
   ],
   "execution_count": 54,
   "outputs": []
  },
  {
   "cell_type": "code",
   "metadata": {
    "id": "CZlm3E7TeaW0",
    "outputId": "f64e158e-973a-4fd4-fa6c-926c02cbc2da",
    "colab": {
     "base_uri": "https://localhost:8080/",
     "height": 476
    }
   },
   "source": [
    "AreaCoeff = 227.31\n",
    "InitialCond = np.loadtxt(\"inputs/Hapi/meteodata/Initia-jiboa.txt\", usecols=0).tolist()\n",
    "Snow = 0\n",
    "\n",
    "Sdate = '2012-06-14 19:00:00'\n",
    "# Edate = '2014-11-17 00:00:00'\n",
    "Edate = '2013-12-23 00:00:00'\n",
    "name = \"Jiboa\"\n",
    "Jiboa = Catchment(name, Sdate, Edate, SpatialResolution = \"Distributed\",\n",
    "              TemporalResolution = \"Hourly\", fmt='%Y-%m-%d %H:%M:%S')\n",
    "Jiboa.readRainfall(PrecPath)\n",
    "Jiboa.readTemperature(TempPath)\n",
    "Jiboa.readET(Evap_Path)\n",
    "Jiboa.readFlowAcc(FlowAccPath)\n",
    "Jiboa.readFlowDir(FlowDPath)\n",
    "Jiboa.readParameters(ParPath, Snow)\n",
    "\n",
    "Jiboa.readLumpedModel(HBV, AreaCoeff, InitialCond)"
   ],
   "execution_count": 55,
   "outputs": [
    {
     "output_type": "error",
     "ename": "AssertionError",
     "evalue": "ignored",
     "traceback": [
      "\u001B[0;31m---------------------------------------------------------------------------\u001B[0m",
      "\u001B[0;31mValueError\u001B[0m                                Traceback (most recent call last)",
      "\u001B[0;32m/usr/local/lib/python3.7/dist-packages/Hapi/raster.py\u001B[0m in \u001B[0;36mReadRastersFolder\u001B[0;34m(path, WithOrder)\u001B[0m\n\u001B[1;32m   2252\u001B[0m             \u001B[0;32mtry\u001B[0m\u001B[0;34m:\u001B[0m\u001B[0;34m\u001B[0m\u001B[0;34m\u001B[0m\u001B[0m\n\u001B[0;32m-> 2253\u001B[0;31m                 \u001B[0mfilesNo\u001B[0m \u001B[0;34m=\u001B[0m \u001B[0;34m[\u001B[0m\u001B[0mint\u001B[0m\u001B[0;34m(\u001B[0m\u001B[0mfiles\u001B[0m\u001B[0;34m[\u001B[0m\u001B[0mi\u001B[0m\u001B[0;34m]\u001B[0m\u001B[0;34m.\u001B[0m\u001B[0msplit\u001B[0m\u001B[0;34m(\u001B[0m\u001B[0;34m\"_\"\u001B[0m\u001B[0;34m)\u001B[0m\u001B[0;34m[\u001B[0m\u001B[0;36m0\u001B[0m\u001B[0;34m]\u001B[0m\u001B[0;34m)\u001B[0m \u001B[0;32mfor\u001B[0m \u001B[0mi\u001B[0m \u001B[0;32min\u001B[0m \u001B[0mrange\u001B[0m\u001B[0;34m(\u001B[0m\u001B[0mlen\u001B[0m\u001B[0;34m(\u001B[0m\u001B[0mfiles\u001B[0m\u001B[0;34m)\u001B[0m\u001B[0;34m)\u001B[0m\u001B[0;34m]\u001B[0m\u001B[0;34m\u001B[0m\u001B[0;34m\u001B[0m\u001B[0m\n\u001B[0m\u001B[1;32m   2254\u001B[0m             \u001B[0;32mexcept\u001B[0m\u001B[0;34m:\u001B[0m\u001B[0;34m\u001B[0m\u001B[0;34m\u001B[0m\u001B[0m\n",
      "\u001B[0;32m/usr/local/lib/python3.7/dist-packages/Hapi/raster.py\u001B[0m in \u001B[0;36m<listcomp>\u001B[0;34m(.0)\u001B[0m\n\u001B[1;32m   2252\u001B[0m             \u001B[0;32mtry\u001B[0m\u001B[0;34m:\u001B[0m\u001B[0;34m\u001B[0m\u001B[0;34m\u001B[0m\u001B[0m\n\u001B[0;32m-> 2253\u001B[0;31m                 \u001B[0mfilesNo\u001B[0m \u001B[0;34m=\u001B[0m \u001B[0;34m[\u001B[0m\u001B[0mint\u001B[0m\u001B[0;34m(\u001B[0m\u001B[0mfiles\u001B[0m\u001B[0;34m[\u001B[0m\u001B[0mi\u001B[0m\u001B[0;34m]\u001B[0m\u001B[0;34m.\u001B[0m\u001B[0msplit\u001B[0m\u001B[0;34m(\u001B[0m\u001B[0;34m\"_\"\u001B[0m\u001B[0;34m)\u001B[0m\u001B[0;34m[\u001B[0m\u001B[0;36m0\u001B[0m\u001B[0;34m]\u001B[0m\u001B[0;34m)\u001B[0m \u001B[0;32mfor\u001B[0m \u001B[0mi\u001B[0m \u001B[0;32min\u001B[0m \u001B[0mrange\u001B[0m\u001B[0;34m(\u001B[0m\u001B[0mlen\u001B[0m\u001B[0;34m(\u001B[0m\u001B[0mfiles\u001B[0m\u001B[0;34m)\u001B[0m\u001B[0;34m)\u001B[0m\u001B[0;34m]\u001B[0m\u001B[0;34m\u001B[0m\u001B[0;34m\u001B[0m\u001B[0m\n\u001B[0m\u001B[1;32m   2254\u001B[0m             \u001B[0;32mexcept\u001B[0m\u001B[0;34m:\u001B[0m\u001B[0;34m\u001B[0m\u001B[0;34m\u001B[0m\u001B[0m\n",
      "\u001B[0;31mValueError\u001B[0m: invalid literal for int() with base 10: 'evap'",
      "\nDuring handling of the above exception, another exception occurred:\n",
      "\u001B[0;31mAssertionError\u001B[0m                            Traceback (most recent call last)",
      "\u001B[0;32m<ipython-input-55-a408df4e07b4>\u001B[0m in \u001B[0;36m<module>\u001B[0;34m()\u001B[0m\n\u001B[1;32m      9\u001B[0m Jiboa = Catchment(name, Sdate, Edate, SpatialResolution = \"Distributed\",\n\u001B[1;32m     10\u001B[0m               TemporalResolution = \"Hourly\", fmt='%Y-%m-%d %H:%M:%S')\n\u001B[0;32m---> 11\u001B[0;31m \u001B[0mJiboa\u001B[0m\u001B[0;34m.\u001B[0m\u001B[0mReadRainfall\u001B[0m\u001B[0;34m(\u001B[0m\u001B[0mPrecPath\u001B[0m\u001B[0;34m)\u001B[0m\u001B[0;34m\u001B[0m\u001B[0;34m\u001B[0m\u001B[0m\n\u001B[0m\u001B[1;32m     12\u001B[0m \u001B[0mJiboa\u001B[0m\u001B[0;34m.\u001B[0m\u001B[0mReadTemperature\u001B[0m\u001B[0;34m(\u001B[0m\u001B[0mTempPath\u001B[0m\u001B[0;34m)\u001B[0m\u001B[0;34m\u001B[0m\u001B[0;34m\u001B[0m\u001B[0m\n\u001B[1;32m     13\u001B[0m \u001B[0mJiboa\u001B[0m\u001B[0;34m.\u001B[0m\u001B[0mReadET\u001B[0m\u001B[0;34m(\u001B[0m\u001B[0mEvap_Path\u001B[0m\u001B[0;34m)\u001B[0m\u001B[0;34m\u001B[0m\u001B[0;34m\u001B[0m\u001B[0m\n",
      "\u001B[0;32m/usr/local/lib/python3.7/dist-packages/Hapi/catchment.py\u001B[0m in \u001B[0;36mReadRainfall\u001B[0;34m(self, Path)\u001B[0m\n\u001B[1;32m    123\u001B[0m             \u001B[0;32massert\u001B[0m \u001B[0mlen\u001B[0m\u001B[0;34m(\u001B[0m\u001B[0mos\u001B[0m\u001B[0;34m.\u001B[0m\u001B[0mlistdir\u001B[0m\u001B[0;34m(\u001B[0m\u001B[0mPath\u001B[0m\u001B[0;34m)\u001B[0m\u001B[0;34m)\u001B[0m \u001B[0;34m>\u001B[0m \u001B[0;36m0\u001B[0m\u001B[0;34m,\u001B[0m \u001B[0mPath\u001B[0m\u001B[0;34m+\u001B[0m\u001B[0;34m\" folder you have provided is empty\"\u001B[0m\u001B[0;34m\u001B[0m\u001B[0;34m\u001B[0m\u001B[0m\n\u001B[1;32m    124\u001B[0m             \u001B[0;31m# read data\u001B[0m\u001B[0;34m\u001B[0m\u001B[0;34m\u001B[0m\u001B[0;34m\u001B[0m\u001B[0m\n\u001B[0;32m--> 125\u001B[0;31m             \u001B[0mself\u001B[0m\u001B[0;34m.\u001B[0m\u001B[0mPrec\u001B[0m \u001B[0;34m=\u001B[0m \u001B[0mRaster\u001B[0m\u001B[0;34m.\u001B[0m\u001B[0mReadRastersFolder\u001B[0m\u001B[0;34m(\u001B[0m\u001B[0mPath\u001B[0m\u001B[0;34m)\u001B[0m\u001B[0;34m\u001B[0m\u001B[0;34m\u001B[0m\u001B[0m\n\u001B[0m\u001B[1;32m    126\u001B[0m             \u001B[0mself\u001B[0m\u001B[0;34m.\u001B[0m\u001B[0mTS\u001B[0m \u001B[0;34m=\u001B[0m \u001B[0mself\u001B[0m\u001B[0;34m.\u001B[0m\u001B[0mPrec\u001B[0m\u001B[0;34m.\u001B[0m\u001B[0mshape\u001B[0m\u001B[0;34m[\u001B[0m\u001B[0;36m2\u001B[0m\u001B[0;34m]\u001B[0m \u001B[0;34m+\u001B[0m \u001B[0;36m1\u001B[0m \u001B[0;31m# no of time steps =length of time series +1\u001B[0m\u001B[0;34m\u001B[0m\u001B[0;34m\u001B[0m\u001B[0m\n\u001B[1;32m    127\u001B[0m             \u001B[0;32massert\u001B[0m \u001B[0mtype\u001B[0m\u001B[0;34m(\u001B[0m\u001B[0mself\u001B[0m\u001B[0;34m.\u001B[0m\u001B[0mPrec\u001B[0m\u001B[0;34m)\u001B[0m \u001B[0;34m==\u001B[0m \u001B[0mnp\u001B[0m\u001B[0;34m.\u001B[0m\u001B[0mndarray\u001B[0m\u001B[0;34m,\u001B[0m \u001B[0;34m\"array should be of type numpy array\"\u001B[0m\u001B[0;34m\u001B[0m\u001B[0;34m\u001B[0m\u001B[0m\n",
      "\u001B[0;32m/usr/local/lib/python3.7/dist-packages/Hapi/raster.py\u001B[0m in \u001B[0;36mReadRastersFolder\u001B[0;34m(path, WithOrder)\u001B[0m\n\u001B[1;32m   2257\u001B[0m                 \u001B[0mInputs\u001B[0m\u001B[0;34m.\u001B[0m\u001B[0mRenameFiles\u001B[0m \u001B[0mmethod\u001B[0m \u001B[0mto\u001B[0m \u001B[0msolve\u001B[0m \u001B[0mthis\u001B[0m \u001B[0missue\u001B[0m \u001B[0;32mand\u001B[0m \u001B[0mdon\u001B[0m\u001B[0;31m'\u001B[0m\u001B[0mt\u001B[0m \u001B[0minclude\u001B[0m\u001B[0;34m\u001B[0m\u001B[0;34m\u001B[0m\u001B[0m\n\u001B[1;32m   2258\u001B[0m                 any other files in the folder with the rasters\"\"\"\n\u001B[0;32m-> 2259\u001B[0;31m                 \u001B[0;32massert\u001B[0m \u001B[0;32mFalse\u001B[0m\u001B[0;34m,\u001B[0m \u001B[0mErrorMsg\u001B[0m\u001B[0;34m\u001B[0m\u001B[0;34m\u001B[0m\u001B[0m\n\u001B[0m\u001B[1;32m   2260\u001B[0m \u001B[0;34m\u001B[0m\u001B[0m\n\u001B[1;32m   2261\u001B[0m \u001B[0;34m\u001B[0m\u001B[0m\n",
      "\u001B[0;31mAssertionError\u001B[0m: please include a number at the beginning of the\n                rasters name to indicate the order of the raster please use the\n                Inputs.renameFiles method to solve this issue and don't include\n                any other files in the folder with the rasters"
     ]
    }
   ]
  },
  {
   "cell_type": "code",
   "metadata": {
    "id": "R8zrDjIueaW5"
   },
   "source": [
    "\n",
    "#p2=[24, 1530]\n",
    "#init_st=[0,5,5,5,0]\n",
    "init_st = np.loadtxt(\"inputs/Hapi/meteodata/Initia-jiboa.txt\", usecols=0).tolist()\n",
    "snow = 0\n",
    "\n",
    "\n",
    "# lake meteorological data\n",
    "ind = pd.date_range(start, end, freq = \"H\" )\n",
    "lakedata = pd.read_csv(\"inputs/Hapi/meteodata/lakedata.csv\", index_col = 0)\n",
    "lakedata.index = ind\n",
    "lakeCalib = lakedata.loc[start:calib_end]\n",
    "lakeValid = lakedata.loc[calib_end:end]\n",
    "# convert the dataframe into array\n",
    "lakeCalibArray = lakeCalib.values\n",
    "# take only the plake, et, t and tm columns and exclude the last column\n",
    "lakeCalibArray = lakeCalibArray[:,0:-1]\n",
    "\n",
    "# where the lake discharges its flow (give the indices of the cell)\n",
    "lakecell = [2,1]    # 4km\n",
    "#lakecell = [4,2]    # 2km\n",
    "#lakecell = [10,4]    # 1km\n",
    "#lakecell = [19,10]    # 500m\n",
    "\n",
    "LakeParameters = np.loadtxt(\"inputs/Hapi/meteodata/4000/Lakeparameters.txt\").tolist()\n",
    "StageDischargeCurve = np.loadtxt(\"inputs/Hapi/meteodata/curve.txt\")\n",
    "p2 = [1, 227.31, 133.98, 70.64]\n",
    "Lake_init_st = np.loadtxt(\"inputs/Hapi/meteodata/Initia-lake.txt\", usecols=0).tolist()"
   ],
   "execution_count": null,
   "outputs": []
  },
  {
   "cell_type": "markdown",
   "metadata": {
    "id": "I5OdyI_KeaW9"
   },
   "source": [
    "# Run the model"
   ]
  },
  {
   "cell_type": "code",
   "metadata": {
    "colab": {
     "base_uri": "https://localhost:8080/",
     "height": 34
    },
    "id": "Brso_XrwiVvV",
    "outputId": "fc7852a1-7640-496a-98a5-86d9d6503ef3"
   },
   "source": [
    "os.getcwd()"
   ],
   "execution_count": null,
   "outputs": [
    {
     "output_type": "execute_result",
     "data": {
      "text/plain": [
       "'/content/drive/My Drive'"
      ]
     },
     "metadata": {
      "tags": []
     },
     "execution_count": 12
    }
   ]
  },
  {
   "cell_type": "code",
   "metadata": {
    "colab": {
     "base_uri": "https://localhost:8080/",
     "height": 34
    },
    "id": "mYZRWMT0idd8",
    "outputId": "c0bb0eaa-99a0-4ce3-e122-cfff72b8df01"
   },
   "source": [
    "os.listdir()"
   ],
   "execution_count": null,
   "outputs": [
    {
     "output_type": "execute_result",
     "data": {
      "text/plain": [
       "['Hapi', 'Jiboa.mxd', 'web application', 'processing', 'inputs', 'results.zip']"
      ]
     },
     "metadata": {
      "tags": []
     },
     "execution_count": 13
    }
   ]
  },
  {
   "cell_type": "code",
   "metadata": {
    "id": "5xivVaDweaW-"
   },
   "source": [
    "Sim =pd.DataFrame(index = lakeCalib.index)\n",
    "st, Sim['Q'], q_uz_routed, q_lz_trans = runHAPIwithLake(HBV, Paths, ParPath, p2, init_st,\n",
    "                                                     snow, lakeCalibArray, StageDischargeCurve,\n",
    "                                                     LakeParameters, lakecell,Lake_init_st)"
   ],
   "execution_count": null,
   "outputs": []
  },
  {
   "cell_type": "markdown",
   "metadata": {
    "id": "kK8Ip1ZkeaXC"
   },
   "source": [
    "### Evaluate model performance"
   ]
  },
  {
   "cell_type": "code",
   "metadata": {
    "id": "60mTcaPveaXD"
   },
   "source": [
    "WS = {}\n",
    "WS['type'] = 1\n",
    "WS['N'] = 3\n",
    "ModelMetrics=dict()\n",
    "ModelMetrics['CalibErrorHf']=Pf.RMSEHF(lakeCalib['Q'],Sim['Q'],WS['type'],WS['N'],0.75)\n",
    "ModelMetrics['CalibErrorLf']=Pf.RMSELF(lakeCalib['Q'],Sim['Q'],WS['type'],WS['N'],0.75)\n",
    "ModelMetrics['CalibNSEHf']=Pf.NSE(lakeCalib['Q'],Sim['Q'])\n",
    "ModelMetrics['CalibNSELf']=Pf.NSE(np.log(lakeCalib['Q']),np.log(Sim['Q']))\n",
    "ModelMetrics['CalibRMSE']=Pf.RMSE(lakeCalib['Q'],Sim['Q'])\n",
    "ModelMetrics['CalibKGE']=Pf.KGE(lakeCalib['Q'],Sim['Q'])\n",
    "ModelMetrics['CalibWB']=Pf.WB(lakeCalib['Q'],Sim['Q'])\n",
    "print(\"RMSE(HF) = \" + str(round(ModelMetrics['CalibErrorHf'],2)))\n",
    "print(\"RMSE(LF) = \" + str(round(ModelMetrics['CalibErrorLf'],2)))\n",
    "print(\"RMSE = \" + str(round(ModelMetrics['CalibRMSE'],2)))\n",
    "print(\"NSE(HF) = \" + str(round(ModelMetrics['CalibNSEHf'],2)))\n",
    "print(\"NSE(LF) = \" + str(round(ModelMetrics['CalibNSELf'],2)))\n",
    "print(\"KGE = \" + str(round(ModelMetrics['CalibKGE'],2)))\n",
    "print(\"WB = \" + str(round(ModelMetrics['CalibWB'],2)))"
   ],
   "execution_count": null,
   "outputs": []
  },
  {
   "cell_type": "code",
   "metadata": {
    "id": "fvcFNEc5eaXG"
   },
   "source": [
    "plt.figure(50,figsize=(15,8))\n",
    "Sim.Q.plot(color=[(0,0.3,0.7)],linewidth=2.5,label=\"Simulated data\", zorder = 10)\n",
    "ax1=lakeCalib['Q'].plot(color='#DC143C',linewidth=2.8,label='Observed data')\n",
    "ax1.annotate(\"Model performance\" ,xy=('2012-12-01 00:00:00',20),fontsize=15)\n",
    "ax1.annotate(\"RMSE = \" + str(round(ModelMetrics['CalibRMSE'],3)),xy=('2012-12-01 00:00:00',20-1.5),fontsize=15)\n",
    "ax1.annotate(\"NSE = \" + str(round(ModelMetrics['CalibNSEHf'],2)),xy=('2012-12-01 00:00:00',20-3),fontsize=15)\n",
    "plt.legend()"
   ],
   "execution_count": null,
   "outputs": []
  },
  {
   "cell_type": "markdown",
   "metadata": {
    "id": "nTZ63xgeeaXL"
   },
   "source": [
    "# Store the result into rasters"
   ]
  },
  {
   "cell_type": "code",
   "metadata": {
    "id": "Z_xSCCvJeaXL"
   },
   "source": [
    "# create list of names\n",
    "src=gdal.Open(FlowAccPath)\n",
    "\n",
    "index=pd.date_range(start,calib_end,freq=\"1H\")\n",
    "\n",
    "resultspath=\"results/upper_zone_discharge/4000/\"\n",
    "names=[resultspath+str(i)[:-6] for i in index]\n",
    "names=[i.replace(\"-\",\"_\") for i in names]\n",
    "names=[i.replace(\" \",\"_\") for i in names]\n",
    "names=[i+\".tif\" for i in names]\n",
    "\n",
    "\n",
    "Raster.RastersLike(src,q_uz_routed[:,:,:-1],names)\n"
   ],
   "execution_count": null,
   "outputs": []
  }
 ]
}
