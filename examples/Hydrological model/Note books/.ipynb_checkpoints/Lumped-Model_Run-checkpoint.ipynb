{
 "cells": [
  {
   "cell_type": "markdown",
   "id": "a364d52f-69a7-475b-933d-89650d591a05",
   "metadata": {},
   "source": [
    "# Lumped Conceptual Model"
   ]
  },
  {
   "cell_type": "markdown",
   "id": "5ec32bfb-e0a3-47c1-9371-b9225ee110e0",
   "metadata": {},
   "source": [
    "- please change the Path to the directory where you stored the case study data"
   ]
  },
  {
   "cell_type": "code",
   "execution_count": 12,
   "id": "e6b2629f",
   "metadata": {},
   "outputs": [],
   "source": [
    "import os\n",
    "Comp = \"F:/01Algorithms/Hydrology/HAPI/Examples\"\n",
    "os.chdir(Comp)\n",
    "#os.listdir(Path)"
   ]
  },
  {
   "cell_type": "markdown",
   "id": "0c51f000",
   "metadata": {},
   "source": [
    "### Import Modules"
   ]
  },
  {
   "cell_type": "code",
   "execution_count": 13,
   "id": "efd94b20",
   "metadata": {},
   "outputs": [],
   "source": [
    "import datetime as dt\n",
    "import matplotlib.pyplot as plt\n",
    "\n",
    "\n",
    "import Hapi.rrm.hbv_bergestrom92 as HBVLumped\n",
    "from Hapi.run import Run\n",
    "from Hapi.catchment import Catchment\n",
    "from Hapi.rrm.routing import Routing\n",
    "import Hapi.statistics.performancecriteria as PC"
   ]
  },
  {
   "cell_type": "markdown",
   "id": "883d3c98",
   "metadata": {},
   "source": [
    "### Paths"
   ]
  },
  {
   "cell_type": "code",
   "execution_count": 14,
   "id": "78d8611e",
   "metadata": {},
   "outputs": [],
   "source": [
    "Parameterpath = Comp + \"/data/lumped/Coello_Lumped2021-03-08_muskingum.txt\"\n",
    "MeteoDataPath = Comp + \"/data/lumped/meteo_data-MSWEP.csv\"\n",
    "Path = Comp + \"/data/lumped/\""
   ]
  },
  {
   "cell_type": "markdown",
   "id": "85e3c2f9",
   "metadata": {},
   "source": [
    "### Meteorological data"
   ]
  },
  {
   "cell_type": "code",
   "execution_count": 15,
   "id": "5812a7f5",
   "metadata": {},
   "outputs": [
    {
     "name": "stdout",
     "output_type": "stream",
     "text": [
      "Lumped Model inputs are read successfully\n"
     ]
    }
   ],
   "source": [
    "start = \"2009-01-01\"\n",
    "end = \"2011-12-31\"\n",
    "name = \"Coello\"\n",
    "Coello = Catchment(name, start, end)\n",
    "Coello.ReadLumpedInputs(MeteoDataPath)"
   ]
  },
  {
   "cell_type": "markdown",
   "id": "eca51f8c-de23-4743-9e80-0ea3497a17b5",
   "metadata": {},
   "source": [
    "### Lumped model"
   ]
  },
  {
   "cell_type": "code",
   "execution_count": 16,
   "id": "e99e1b85",
   "metadata": {},
   "outputs": [
    {
     "name": "stdout",
     "output_type": "stream",
     "text": [
      "Lumped model is read successfully\n"
     ]
    }
   ],
   "source": [
    "# catchment area\n",
    "AreaCoeff = 1530\n",
    "# [Snow pack, Soil moisture, Upper zone, Lower Zone, Water content]\n",
    "InitialCond = [0,10,10,10,0]\n",
    "\n",
    "Coello.ReadLumpedModel(HBVLumped, AreaCoeff, InitialCond)"
   ]
  },
  {
   "cell_type": "markdown",
   "id": "38e7ae6a-d43a-4fc0-9985-4dd69b5f84e1",
   "metadata": {},
   "source": [
    "### Model Parameters"
   ]
  },
  {
   "cell_type": "code",
   "execution_count": 17,
   "id": "bb1d0450-e973-44af-88af-f6f8e44c1783",
   "metadata": {},
   "outputs": [
    {
     "name": "stdout",
     "output_type": "stream",
     "text": [
      "Parameters are read successfully\n"
     ]
    }
   ],
   "source": [
    "Snow = 0 # no snow subroutine\n",
    "Coello.ReadParameters(Parameterpath, Snow)"
   ]
  },
  {
   "cell_type": "code",
   "execution_count": 26,
   "id": "256545fe-9c7c-4628-b559-f43a307c5db4",
   "metadata": {},
   "outputs": [
    {
     "data": {
      "text/plain": [
       "[0.7,\n",
       " 51.1726422,\n",
       " 1.147999,\n",
       " 0.1,\n",
       " 0.88137,\n",
       " 0.82353,\n",
       " 0.35651,\n",
       " 0.03223,\n",
       " 47.426,\n",
       " 5.2744,\n",
       " 1.0,\n",
       " 0.2]"
      ]
     },
     "execution_count": 26,
     "metadata": {},
     "output_type": "execute_result"
    }
   ],
   "source": [
    "Coello.Parameters"
   ]
  },
  {
   "cell_type": "markdown",
   "id": "602e4629",
   "metadata": {},
   "source": [
    "### Observed flow"
   ]
  },
  {
   "cell_type": "code",
   "execution_count": 18,
   "id": "54555e66",
   "metadata": {},
   "outputs": [
    {
     "name": "stdout",
     "output_type": "stream",
     "text": [
      "Gauges data are read successfully\n"
     ]
    }
   ],
   "source": [
    "Coello.ReadDischargeGauges(Path + \"Qout_c.csv\", fmt=\"%Y-%m-%d\")"
   ]
  },
  {
   "cell_type": "markdown",
   "id": "60f825cc-49ee-4680-b8cb-901bd11774ec",
   "metadata": {},
   "source": [
    "- the discharge data should be stored in the text file with the date stored in the first column and the discharge values in the second column"
   ]
  },
  {
   "cell_type": "markdown",
   "id": "894ecdc8",
   "metadata": {},
   "source": [
    "### Routing"
   ]
  },
  {
   "cell_type": "code",
   "execution_count": 19,
   "id": "f80b814a",
   "metadata": {},
   "outputs": [
    {
     "name": "stdout",
     "output_type": "stream",
     "text": [
      "Model Run has finished\n"
     ]
    }
   ],
   "source": [
    "# RoutingFn = Routing.TriangularRouting2\n",
    "RoutingFn = Routing.Muskingum_V\n",
    "Route = 1"
   ]
  },
  {
   "cell_type": "markdown",
   "id": "560380a3-6dd5-44a5-b9c4-8d65e53d5a5f",
   "metadata": {},
   "source": [
    "### Run The Model"
   ]
  },
  {
   "cell_type": "code",
   "execution_count": 20,
   "id": "c4f9c7fc-c087-4fef-be5c-f970e1f13f68",
   "metadata": {},
   "outputs": [
    {
     "name": "stdout",
     "output_type": "stream",
     "text": [
      "Model Run has finished\n"
     ]
    }
   ],
   "source": [
    "Run.RunLumped(Coello, Route, RoutingFn)"
   ]
  },
  {
   "cell_type": "markdown",
   "id": "3b30a30b",
   "metadata": {},
   "source": [
    "### Calculate performance criteria"
   ]
  },
  {
   "cell_type": "code",
   "execution_count": 21,
   "id": "7e1a0414",
   "metadata": {},
   "outputs": [
    {
     "name": "stdout",
     "output_type": "stream",
     "text": [
      "RMSE= 26.03\n",
      "NSE= 0.01\n",
      "NSEhf= 0.17\n",
      "KGE= 0.54\n",
      "WB= 96.55\n"
     ]
    }
   ],
   "source": [
    "Metrics = dict()\n",
    "\n",
    "# gaugeid = Coello.QGauges.columns[-1]\n",
    "Qobs = Coello.QGauges['q']\n",
    "\n",
    "Metrics['RMSE'] = PC.RMSE(Qobs, Coello.Qsim['q'])\n",
    "Metrics['NSE'] = PC.NSE(Qobs, Coello.Qsim['q'])\n",
    "Metrics['NSEhf'] = PC.NSEHF(Qobs, Coello.Qsim['q'])\n",
    "Metrics['KGE'] = PC.KGE(Qobs, Coello.Qsim['q'])\n",
    "Metrics['WB'] = PC.WB(Qobs, Coello.Qsim['q'])\n",
    "\n",
    "print(\"RMSE= \" + str(round(Metrics['RMSE'],2)))\n",
    "print(\"NSE= \" + str(round(Metrics['NSE'],2)))\n",
    "print(\"NSEhf= \" + str(round(Metrics['NSEhf'],2)))\n",
    "print(\"KGE= \" + str(round(Metrics['KGE'],2)))\n",
    "print(\"WB= \" + str(round(Metrics['WB'],2)))"
   ]
  },
  {
   "cell_type": "markdown",
   "id": "da4641e2",
   "metadata": {},
   "source": [
    "### Plot Hydrograph"
   ]
  },
  {
   "cell_type": "code",
   "execution_count": 22,
   "id": "17053377",
   "metadata": {},
   "outputs": [
    {
     "data": {
      "text/plain": [
       "(<Figure size 432x360 with 1 Axes>,\n",
       " <AxesSubplot:title={'center':'Lumped Model'}, xlabel='Time', ylabel='Discharge m3/s'>)"
      ]
     },
     "execution_count": 22,
     "metadata": {},
     "output_type": "execute_result"
    },
    {
     "data": {
      "image/png": "[encoded data removed]",
      "text/plain": [
       "<Figure size 432x360 with 1 Axes>"
      ]
     },
     "metadata": {
      "needs_background": "light"
     },
     "output_type": "display_data"
    }
   ],
   "source": [
    "gaugei = 0\n",
    "plotstart = \"2009-01-01\"\n",
    "plotend = \"2011-12-31\"\n",
    "Coello.PlotHydrograph(plotstart, plotend, gaugei, Title= \"Lumped Model\")"
   ]
  },
  {
   "cell_type": "markdown",
   "id": "6193fb9c",
   "metadata": {},
   "source": [
    "### Save Results"
   ]
  },
  {
   "cell_type": "code",
   "execution_count": 23,
   "id": "88e8fae6",
   "metadata": {},
   "outputs": [
    {
     "name": "stdout",
     "output_type": "stream",
     "text": [
      "Data is saved successfully\n"
     ]
    }
   ],
   "source": [
    "StartDate = \"2009-01-01\"\n",
    "EndDate = \"2010-04-20\"\n",
    "\n",
    "Path = SaveTo + \"Results-Lumped-Model\" + str(dt.datetime.now())[0:10] + \".txt\"\n",
    "Coello.SaveResults(Result=5, StartDate=StartDate, EndDate=EndDate, Path=Path)"
   ]
  }
 ],
 "metadata": {
  "kernelspec": {
   "display_name": "Python 3",
   "language": "python",
   "name": "python3"
  },
  "language_info": {
   "codemirror_mode": {
    "name": "ipython",
    "version": 3
   },
   "file_extension": ".py",
   "mimetype": "text/x-python",
   "name": "python",
   "nbconvert_exporter": "python",
   "pygments_lexer": "ipython3",
   "version": "3.8.10"
  }
 },
 "nbformat": 4,
 "nbformat_minor": 5
}
