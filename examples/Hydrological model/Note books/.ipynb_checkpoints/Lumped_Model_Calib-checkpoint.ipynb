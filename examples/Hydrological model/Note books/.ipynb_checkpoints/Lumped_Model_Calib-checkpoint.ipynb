{
 "cells": [
  {
   "cell_type": "markdown",
   "id": "b28a9387-0f0c-4c9d-a52d-b3a3a5618aac",
   "metadata": {},
   "source": [
    "# Lumped Model Calibration"
   ]
  },
  {
   "cell_type": "markdown",
   "id": "7b408ce7-52aa-401b-bcd5-132255e46cf3",
   "metadata": {},
   "source": [
    "- Please change the Path in the following cell to the directory where you stored the case study data"
   ]
  },
  {
   "cell_type": "code",
   "execution_count": 1,
   "id": "ad01687e",
   "metadata": {},
   "outputs": [],
   "source": [
    "Comp = \"F:/01Algorithms/Hydrology/HAPI/Examples\""
   ]
  },
  {
   "cell_type": "markdown",
   "id": "2bd5322a",
   "metadata": {},
   "source": [
    "### Modules"
   ]
  },
  {
   "cell_type": "code",
   "execution_count": 2,
   "id": "54aa43b6",
   "metadata": {},
   "outputs": [],
   "source": [
    "import pandas as pd\n",
    "import datetime as dt\n",
    "import Hapi.rrm.hbv_bergestrom92 as HBVLumped\n",
    "from Hapi.rrm.calibration import Calibration\n",
    "from Hapi.rrm.routing import Routing\n",
    "from Hapi.run import Run\n",
    "import Hapi.statistics.performancecriteria as PC"
   ]
  },
  {
   "cell_type": "markdown",
   "id": "1584f9c5",
   "metadata": {},
   "source": [
    "### Paths"
   ]
  },
  {
   "cell_type": "code",
   "execution_count": 4,
   "id": "576dd8b4",
   "metadata": {},
   "outputs": [],
   "source": [
    "Parameterpath = Comp + \"/data/lumped/Coello_Lumped2021-03-08_muskingum.txt\"\n",
    "MeteoDataPath = Comp + \"/data/lumped/meteo_data-MSWEP.csv\"\n",
    "Path = Comp + \"/data/lumped/\""
   ]
  },
  {
   "cell_type": "markdown",
   "id": "d3bffd6f",
   "metadata": {},
   "source": [
    "### Meteorological data"
   ]
  },
  {
   "cell_type": "code",
   "execution_count": 5,
   "id": "a89ee25b",
   "metadata": {},
   "outputs": [
    {
     "name": "stdout",
     "output_type": "stream",
     "text": [
      "Lumped Model inputs are read successfully\n"
     ]
    }
   ],
   "source": [
    "start = \"2009-01-01\"\n",
    "end = \"2011-12-31\"\n",
    "name = \"Coello\"\n",
    "\n",
    "Coello = Calibration(name, start, end)\n",
    "Coello.ReadLumpedInputs(MeteoDataPath)"
   ]
  },
  {
   "cell_type": "markdown",
   "id": "eccbe8ee",
   "metadata": {},
   "source": [
    "### Basic_inputs"
   ]
  },
  {
   "cell_type": "code",
   "execution_count": 7,
   "id": "f29da93b",
   "metadata": {},
   "outputs": [
    {
     "name": "stdout",
     "output_type": "stream",
     "text": [
      "Lumped model is read successfully\n"
     ]
    }
   ],
   "source": [
    "# catchment area\n",
    "AreaCoeff = 1530\n",
    "# temporal resolution\n",
    "# [Snow pack, Soil moisture, Upper zone, Lower Zone, Water content]\n",
    "InitialCond = [0,10,10,10,0]\n",
    "# no snow subroutine\n",
    "Snow = 0\n",
    "Coello.ReadLumpedModel(HBVLumped, AreaCoeff, InitialCond)"
   ]
  },
  {
   "cell_type": "markdown",
   "id": "623019fd",
   "metadata": {},
   "source": [
    "# Calibration parameters"
   ]
  },
  {
   "cell_type": "code",
   "execution_count": 12,
   "id": "7db2ce2d",
   "metadata": {},
   "outputs": [
    {
     "name": "stdout",
     "output_type": "stream",
     "text": [
      "Parameters bounds are read successfully\n",
      "Gauges data are read successfully\n",
      "Objective function is read successfully\n"
     ]
    }
   ],
   "source": [
    "# Calibration boundaries\n",
    "UB = pd.read_csv(Path + \"/lumped/UB-3.txt\", index_col = 0, header = None)\n",
    "parnames = UB.index\n",
    "UB = UB[1].tolist()\n",
    "LB = pd.read_csv(Path + \"/lumped/LB-3.txt\", index_col = 0, header = None)\n",
    "LB = LB[1].tolist()\n",
    "\n",
    "Maxbas = True\n",
    "Coello.ReadParametersBounds(UB, LB, Snow, Maxbas=Maxbas)"
   ]
  },
  {
   "cell_type": "markdown",
   "id": "718fd2f2-baa3-409b-ab63-dee645f70398",
   "metadata": {},
   "source": [
    "### Additional arguments"
   ]
  },
  {
   "cell_type": "code",
   "execution_count": 9,
   "id": "50364d63-f5d0-421b-afef-f901f54ade93",
   "metadata": {},
   "outputs": [],
   "source": [
    "parameters = []\n",
    "# Routing\n",
    "Route = 1\n",
    "RoutingFn = Routing.TriangularRouting1\n",
    "\n",
    "Basic_inputs = dict(Route=Route, RoutingFn=RoutingFn, InitialValues = parameters)"
   ]
  },
  {
   "cell_type": "markdown",
   "id": "ebf575cc-b095-4adc-94f5-649672244853",
   "metadata": {},
   "source": [
    "### Objective function"
   ]
  },
  {
   "cell_type": "code",
   "execution_count": 11,
   "id": "4705d8b5-127f-4756-9163-1eec1d2678d9",
   "metadata": {},
   "outputs": [
    {
     "name": "stdout",
     "output_type": "stream",
     "text": [
      "Gauges data are read successfully\n",
      "Objective function is read successfully\n"
     ]
    }
   ],
   "source": [
    "# outlet discharge\n",
    "Coello.ReadDischargeGauges(Path+\"Qout_c.csv\", fmt=\"%Y-%m-%d\")\n",
    "\n",
    "OF_args=[]\n",
    "OF=PC.RMSE\n",
    "\n",
    "Coello.ReadObjectiveFn(PC.RMSE, OF_args)"
   ]
  },
  {
   "cell_type": "markdown",
   "id": "baebdf63",
   "metadata": {},
   "source": [
    "# Calibration"
   ]
  },
  {
   "cell_type": "markdown",
   "id": "a4e2b6e5",
   "metadata": {},
   "source": [
    "API options\n",
    "Create the options dictionary all the optimization parameters should be passed\n",
    "to the optimization object inside the option dictionary:\n",
    "\n",
    "\n",
    "to see all options import Optimizer class and check the documentation of the\n",
    "method setOption"
   ]
  },
  {
   "cell_type": "code",
   "execution_count": 12,
   "id": "42e7aaea",
   "metadata": {},
   "outputs": [
    {
     "name": "stdout",
     "output_type": "stream",
     "text": [
      "hms 100\n",
      "hmcr 0.95\n",
      "par 0.65\n",
      "dbw 2000\n",
      "fileout 1\n",
      "xinit 0\n",
      "filename F:/01Algorithms/Hydrology/HAPI/Examples/data/lumped//Lumped_History2021-05-15.txt\n"
     ]
    }
   ],
   "source": [
    "ApiObjArgs = dict(hms=100, hmcr=0.95, par=0.65, dbw=2000, fileout=1, xinit =0,\n",
    "                      filename=Path + \"/Lumped_History\"+str(dt.datetime.now())[0:10]+\".txt\")\n",
    "\n",
    "for i in range(len(ApiObjArgs)):\n",
    "    print(list(ApiObjArgs.keys())[i], str(ApiObjArgs[list(ApiObjArgs.keys())[i]]))\n",
    "\n",
    "# pll_type = 'POA'\n",
    "pll_type = None\n",
    "\n",
    "ApiSolveArgs = dict(store_sol=True, display_opts=True, store_hst=True, hot_start=False)\n",
    "\n",
    "OptimizationArgs=[ApiObjArgs, pll_type, ApiSolveArgs]"
   ]
  },
  {
   "cell_type": "markdown",
   "id": "78e02f69",
   "metadata": {},
   "source": [
    "### Run Calibration"
   ]
  },
  {
   "cell_type": "code",
   "execution_count": null,
   "id": "8712eeda-097d-46cb-821d-5e53918c15ce",
   "metadata": {},
   "outputs": [],
   "source": [
    "cal_parameters = Coello.LumpedCalibration(Basic_inputs, OptimizationArgs, printError=None)\n",
    "\n",
    "print(\"Objective Function = \" + str(round(cal_parameters[0],2)))\n",
    "print(\"Parameters are \" + str(cal_parameters[1]))\n",
    "print(\"Time = \" + str(round(cal_parameters[2]['time']/60,2)) + \" min\")"
   ]
  },
  {
   "cell_type": "code",
   "execution_count": null,
   "id": "8cb40098-5ace-40c8-8782-721570f7cbb0",
   "metadata": {},
   "outputs": [],
   "source": [
    "cal_parameters[2]['time']"
   ]
  },
  {
   "cell_type": "markdown",
   "id": "deddd63a",
   "metadata": {},
   "source": [
    "### Run the Model"
   ]
  },
  {
   "cell_type": "code",
   "execution_count": null,
   "id": "5674017b",
   "metadata": {},
   "outputs": [],
   "source": [
    "Coello.Parameters = cal_parameters[1]\n",
    "Run.RunLumped(Coello, Route, RoutingFn)"
   ]
  },
  {
   "cell_type": "markdown",
   "id": "a22f97e8",
   "metadata": {},
   "source": [
    "### Calculate Performance Criteria"
   ]
  },
  {
   "cell_type": "code",
   "execution_count": null,
   "id": "f372b9a6",
   "metadata": {},
   "outputs": [],
   "source": [
    "Metrics = dict()\n",
    "\n",
    "Qobs = Coello.QGauges[Coello.QGauges.columns[0]]\n",
    "\n",
    "Metrics['RMSE'] = PC.RMSE(Qobs, Coello.Qsim['q'])\n",
    "Metrics['NSE'] = PC.NSE(Qobs, Coello.Qsim['q'])\n",
    "Metrics['NSEhf'] = PC.NSEHF(Qobs, Coello.Qsim['q'])\n",
    "Metrics['KGE'] = PC.KGE(Qobs, Coello.Qsim['q'])\n",
    "Metrics['WB'] = PC.WB(Qobs, Coello.Qsim['q'])\n",
    "\n",
    "print(\"RMSE= \" + str(round(Metrics['RMSE'],2)))\n",
    "print(\"NSE= \" + str(round(Metrics['NSE'],2)))\n",
    "print(\"NSEhf= \" + str(round(Metrics['NSEhf'],2)))\n",
    "print(\"KGE= \" + str(round(Metrics['KGE'],2)))\n",
    "print(\"WB= \" + str(round(Metrics['WB'],2)))"
   ]
  },
  {
   "cell_type": "markdown",
   "id": "dd845231",
   "metadata": {},
   "source": [
    "### Plotting Hydrograph"
   ]
  },
  {
   "cell_type": "code",
   "execution_count": null,
   "id": "09268e7d",
   "metadata": {},
   "outputs": [],
   "source": [
    "gaugei = 0\n",
    "plotstart = \"2009-01-01\"\n",
    "plotend = \"2011-12-31\"\n",
    "Coello.PlotHydrograph(plotstart, plotend, gaugei, Title= \"Lumped Model\")"
   ]
  },
  {
   "cell_type": "markdown",
   "id": "249dc415",
   "metadata": {},
   "source": [
    "### Save the Parameters"
   ]
  },
  {
   "cell_type": "code",
   "execution_count": null,
   "id": "0ec9ee5d",
   "metadata": {},
   "outputs": [],
   "source": [
    "ParPath = Path + \"Parameters\" + str(dt.datetime.now())[0:10] + \".txt\"\n",
    "parameters = pd.DataFrame(index=parnames)\n",
    "parameters['values'] = cal_parameters[1]\n",
    "parameters.to_csv(ParPath, header=None, float_format=\"%0.4f\")"
   ]
  },
  {
   "cell_type": "markdown",
   "id": "30c36ce1-4cee-4c20-b368-7ffe4b69cdd7",
   "metadata": {},
   "source": [
    "### Save Results"
   ]
  },
  {
   "cell_type": "code",
   "execution_count": null,
   "id": "3007b8a1-627f-4e88-b036-756f7cdedb9f",
   "metadata": {},
   "outputs": [],
   "source": [
    "StartDate = \"2009-01-01\"\n",
    "EndDate = \"2010-04-20\"\n",
    "\n",
    "Path = Path + \"Results-Lumped-Model\" + str(dt.datetime.now())[0:10] + \".txt\"\n",
    "Coello.SaveResults(Result=5, StartDate=StartDate, EndDate=EndDate, Path=Path)"
   ]
  }
 ],
 "metadata": {
  "kernelspec": {
   "display_name": "Python 3",
   "language": "python",
   "name": "python3"
  },
  "language_info": {
   "codemirror_mode": {
    "name": "ipython",
    "version": 3
   },
   "file_extension": ".py",
   "mimetype": "text/x-python",
   "name": "python",
   "nbconvert_exporter": "python",
   "pygments_lexer": "ipython3",
   "version": "3.8.10"
  }
 },
 "nbformat": 4,
 "nbformat_minor": 5
}
