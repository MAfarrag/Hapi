{
 "cells": [
  {
   "cell_type": "markdown",
   "metadata": {},
   "source": [
    "# Jiboa Case Study"
   ]
  },
  {
   "cell_type": "markdown",
   "metadata": {},
   "source": [
    "This code is prepared to Run the distributed model for jiboa rover in El Salvador\n",
    "wher the catchment is consisted os a ustream lake and a volcanic area\n",
    "-   you have to make the root directory to the examples folder to enable the code\n",
    "    from reading input files"
   ]
  },
  {
   "cell_type": "markdown",
   "metadata": {},
   "source": [
    "# 1-Download Data\n",
    "For the data of this case study you have to download this folder [Jiboa Data](https://drive.google.com/drive/folders/1yy6xWwx8Ucc-O72FgVxsuvJBdk3u0sVa?usp=sharing) from Google Drive and set it as the working directory instead of the Path defined in the next cell"
   ]
  },
  {
   "cell_type": "markdown",
   "metadata": {},
   "source": [
    "# 2-Import modules"
   ]
  },
  {
   "cell_type": "markdown",
   "metadata": {},
   "source": [
    "- please change the Path to the directory where you stored the case study data"
   ]
  },
  {
   "cell_type": "code",
   "execution_count": 1,
   "metadata": {},
   "outputs": [],
   "source": [
    "import os\n",
    "\n",
    "\n",
    "root = \"E:\\case studies\\El Salvador\"\n",
    "os.chdir(root)\n",
    "\n",
    "#libraries\n",
    "import numpy as np\n",
    "import datetime as dt\n",
    "\n",
    "# HAPI modules\n",
    "from Hapi.run import Run\n",
    "from Hapi.catchment import Catchment, Lake\n",
    "import Hapi.rrm.hbv as HBV\n",
    "import Hapi.rrm.hbv_lake as HBVLake\n",
    "import Hapi.sm.performancecriteria as Pf"
   ]
  },
  {
   "cell_type": "markdown",
   "metadata": {},
   "source": [
    "# 3-Meteorological Data"
   ]
  },
  {
   "cell_type": "markdown",
   "metadata": {},
   "source": [
    "- For Jiboa case study Hapi model was built for different spatial resolution (4km, 2km, 1km, and 500m )\n",
    "- in the following cell you have to choose the resolution you want to use to run the model"
   ]
  },
  {
   "cell_type": "code",
   "execution_count": 2,
   "metadata": {},
   "outputs": [],
   "source": [
    "res = 4000"
   ]
  },
  {
   "cell_type": "code",
   "execution_count": 3,
   "metadata": {},
   "outputs": [],
   "source": [
    "# the beginning of the simulation of the calibration data\n",
    "PrecPath = \"inputs/Hapi/meteodata/\" + str(res) + \"/calib/prec_clipped\"\n",
    "Evap_Path = \"inputs/Hapi/meteodata/\" + str(res) + \"/calib/evap_clipped\"\n",
    "TempPath = \"inputs/Hapi/meteodata/\" + str(res) + \"/calib/temp_clipped\"\n",
    "FlowAccPath = \"inputs/Hapi/GIS/\" + str(res) + \"_matched/acc\" + str(res) + \".tif\"\n",
    "FlowDPath = \"inputs/Hapi/GIS/\" + str(res) + \"_matched/fd\" + str(res) + \".tif\"\n",
    "ParPath = \"inputs/Hapi/meteodata/\" + str(res) + \"/parameters/\"\n",
    "# Lake\n",
    "LakeMeteoPath = \"inputs/Hapi/meteodata/lakedata.csv\"\n",
    "LakeParametersPath = \"inputs/Hapi/meteodata/\" + str(res) + \"/Lakeparameters.txt\"\n",
    "GaugesPath = \"inputs/Hapi/meteodata/Gauges/\"\n",
    "SaveTo = \"results/\""
   ]
  },
  {
   "cell_type": "markdown",
   "metadata": {},
   "source": [
    "# 4-Distributed Model Object"
   ]
  },
  {
   "cell_type": "code",
   "execution_count": 4,
   "metadata": {},
   "outputs": [
    {
     "name": "stderr",
     "output_type": "stream",
     "text": [
      "2022-03-19 23:32:59.351 | DEBUG    | catchment:readRainfall:200 - Rainfall data are read successfully\n",
      "2022-03-19 23:33:05.199 | DEBUG    | catchment:readTemperature:253 - Temperature data are read successfully\n",
      "2022-03-19 23:33:12.814 | DEBUG    | catchment:readET:295 - Potential Evapotranspiration data are read successfully\n",
      "2022-03-19 23:33:12.846 | DEBUG    | catchment:readFlowAcc:387 - Flow Accmulation input is read successfully\n",
      "2022-03-19 23:33:12.846 | DEBUG    | catchment:readFlowDir:441 - Flow Direction input is read successfully\n",
      "2022-03-19 23:33:12.877 | DEBUG    | catchment:readParameters:624 - Parameters are read successfully\n",
      "2022-03-19 23:33:12.877 | DEBUG    | catchment:readLumpedModel:678 - Lumped model is read successfully\n"
     ]
    }
   ],
   "source": [
    "AreaCoeff = 227.31\n",
    "InitialCond = np.loadtxt(\"inputs/Hapi/meteodata/Initia-jiboa.txt\", usecols=0).tolist()\n",
    "Snow = 0\n",
    "\n",
    "start_date = '2012-06-14 19:00:00'\n",
    "# Edate = '2014-11-17 00:00:00'\n",
    "end_date = '2013-12-23 00:00:00'\n",
    "name = \"Jiboa\"\n",
    "Jiboa = Catchment(name, start_date, end_date, SpatialResolution=\"Distributed\",\n",
    "                  TemporalResolution=\"Hourly\", fmt='%Y-%m-%d %H:%M:%S')\n",
    "Jiboa.readRainfall(PrecPath)\n",
    "Jiboa.readTemperature(TempPath)\n",
    "Jiboa.readET(Evap_Path)\n",
    "Jiboa.readFlowAcc(FlowAccPath)\n",
    "Jiboa.readFlowDir(FlowDPath)\n",
    "Jiboa.readParameters(ParPath, Snow)\n",
    "\n",
    "Jiboa.readLumpedModel(HBV, AreaCoeff, InitialCond)"
   ]
  },
  {
   "cell_type": "markdown",
   "metadata": {},
   "source": [
    "# 5-Lake Object"
   ]
  },
  {
   "cell_type": "markdown",
   "metadata": {},
   "source": [
    "For the Lake the following data is required \n",
    "- lake meteorological data\n",
    "    mean rainfall, mean temperature, and mean evapotranspiration for the whole lake.\n",
    "- connected cell to the distributed model :\n",
    "    ([row ,column] unfortunately for now you have to provide the cell indices however in future versions this requiremtn will be replaced by the coordinates of the lake outlet).\n",
    "- Stage-Discharge rating curve :\n",
    "    so simulate the lake Hapi uses volume vs outflow ralationship to calculate the outflow from the lake, the internal lake sub-routine calculates the volume change for each time \n",
    "    step and using the curve the outflow can be obtained."
   ]
  },
  {
   "cell_type": "code",
   "execution_count": 5,
   "metadata": {},
   "outputs": [
    {
     "name": "stderr",
     "output_type": "stream",
     "text": [
      "2022-03-19 23:33:53.060 | DEBUG    | catchment:readMeteoData:1584 - Lake Meteo data are read successfully\n",
      "2022-03-19 23:33:53.060 | DEBUG    | catchment:readParameters:1603 - Lake Parameters are read successfully\n",
      "2022-03-19 23:33:53.060 | DEBUG    | catchment:readLumpedModel:1668 - Lumped model is read successfully\n"
     ]
    }
   ],
   "source": [
    "# where the lake discharges its flow (give the indices of the cell)\n",
    "if res == 4000:\n",
    "    OutflowCell = [2, 1]  # 4km\n",
    "elif res == 2000:\n",
    "    OutflowCell = [4, 2]  # 2km\n",
    "elif res == 1000:\n",
    "    OutflowCell = [10, 4]  # 1km\n",
    "elif res == 500:\n",
    "    OutflowCell = [19, 10]  # 500m\n",
    "\n",
    "start_date = '2012.06.14 19:00:00'\n",
    "# Edate = '2014.11.17 00:00:00'\n",
    "end_date = '2013.12.23 00:00:00'\n",
    "\n",
    "JiboaLake = Lake(start=start_date, end=end_date, fmt='%Y.%m.%d %H:%M:%S',\n",
    "                 TemporalResolution=\"Hourly\", Split=True)\n",
    "\n",
    "JiboaLake.readMeteoData(LakeMeteoPath, fmt='%d.%m.%Y %H:%M')\n",
    "JiboaLake.readParameters(LakeParametersPath)\n",
    "\n",
    "StageDischargeCurve = np.loadtxt(\"inputs/Hapi/meteodata/curve.txt\")\n",
    "LakeInitCond = np.loadtxt(\"inputs/Hapi/meteodata/Initia-lake.txt\", usecols=0).tolist()\n",
    "LakeCatArea = 133.98\n",
    "LakeArea = 70.64\n",
    "Snow = 0\n",
    "JiboaLake.readLumpedModel(HBVLake, LakeCatArea, LakeArea, LakeInitCond,\n",
    "                          OutflowCell, StageDischargeCurve, Snow)"
   ]
  },
  {
   "cell_type": "markdown",
   "metadata": {},
   "source": [
    "# 6-Gauges"
   ]
  },
  {
   "cell_type": "code",
   "execution_count": 6,
   "metadata": {},
   "outputs": [
    {
     "name": "stderr",
     "output_type": "stream",
     "text": [
      "2022-03-19 23:33:58.759 | DEBUG    | catchment:readGaugeTable:773 - Gauge Table is read successfully\n",
      "2022-03-19 23:33:59.040 | DEBUG    | catchment:readDischargeGauges:867 - Gauges data are read successfully\n"
     ]
    }
   ],
   "source": [
    "Date1 = '14.06.2012 19:00'\n",
    "Date2 = '23.12.2013 00:00'\n",
    "Jiboa.readGaugeTable(GaugesPath + \"GaugesTable.csv\", FlowAccPath)\n",
    "Jiboa.readDischargeGauges(GaugesPath, column='id', fmt='%d.%m.%Y %H:%M',\n",
    "                          Split=True, Date1=Date1, Date2=Date2)"
   ]
  },
  {
   "cell_type": "markdown",
   "metadata": {},
   "source": [
    "# 7-Run the model"
   ]
  },
  {
   "cell_type": "code",
   "execution_count": 7,
   "metadata": {},
   "outputs": [
    {
     "name": "stdout",
     "output_type": "stream",
     "text": [
      "Model Run has finished\n"
     ]
    }
   ],
   "source": [
    "Run.runHAPIwithLake(Jiboa, JiboaLake)"
   ]
  },
  {
   "cell_type": "markdown",
   "metadata": {},
   "source": [
    "## 8-Evaluate model performance"
   ]
  },
  {
   "cell_type": "code",
   "execution_count": 8,
   "metadata": {},
   "outputs": [
    {
     "name": "stdout",
     "output_type": "stream",
     "text": [
      "----------------------------------\n",
      "Gauge - 1\n",
      "RMSE= 1.93\n",
      "NSE= 0.48\n",
      "NSEhf= 0.44\n",
      "KGE= 0.54\n",
      "WB= 72.44\n",
      "Pearson CC= 0.62\n",
      "R2 = 0.48\n"
     ]
    }
   ],
   "source": [
    "Jiboa.extractDischarge(OnlyOutlet=True)\n",
    "\n",
    "for i in range(len(Jiboa.GaugesTable)):\n",
    "    gaugeid = Jiboa.GaugesTable.loc[i, 'id']\n",
    "    print(\"----------------------------------\")\n",
    "    print(\"Gauge - \" + str(gaugeid))\n",
    "    print(\"RMSE= \" + str(round(Jiboa.Metrics.loc['RMSE', gaugeid], 2)))\n",
    "    print(\"NSE= \" + str(round(Jiboa.Metrics.loc['NSE', gaugeid], 2)))\n",
    "    print(\"NSEhf= \" + str(round(Jiboa.Metrics.loc['NSEhf', gaugeid], 2)))\n",
    "    print(\"KGE= \" + str(round(Jiboa.Metrics.loc['KGE', gaugeid], 2)))\n",
    "    print(\"WB= \" + str(round(Jiboa.Metrics.loc['WB', gaugeid], 2)))\n",
    "    print(\"Pearson CC= \" + str(round(Jiboa.Metrics.loc['Pearson-CC', gaugeid], 2)))\n",
    "    print(\"R2 = \" + str(round(Jiboa.Metrics.loc['R2', gaugeid], 2)))"
   ]
  },
  {
   "cell_type": "code",
   "execution_count": 9,
   "metadata": {},
   "outputs": [
    {
     "name": "stdout",
     "output_type": "stream",
     "text": [
      "{'Calib_RMSEHF': 0.681, 'Calib_RMSELF': 1.143, 'Calib_NSEHf': 0.478, 'Calib_NSELf': -0.853, 'Calib_RMSE': 1.93, 'Calib_KGE': 0.542, 'Calib_WB': 72.445}\n"
     ]
    }
   ],
   "source": [
    "Qobs = Jiboa.QGauges[Jiboa.GaugesTable.loc[0, 'id']]\n",
    "\n",
    "gaugeid = Jiboa.GaugesTable.loc[0, 'id']\n",
    "\n",
    "WS = {}\n",
    "WS['type'] = 1\n",
    "WS['N'] = 3\n",
    "ModelMetrics = dict()\n",
    "ModelMetrics['Calib_RMSEHF'] = round(Pf.RMSEHF(Qobs, Jiboa.Qsim[gaugeid], WS['type'], WS['N'], 0.75), 3)\n",
    "ModelMetrics['Calib_RMSELF'] = round(Pf.RMSELF(Qobs, Jiboa.Qsim[gaugeid], WS['type'], WS['N'], 0.75), 3)\n",
    "ModelMetrics['Calib_NSEHf'] = round(Pf.NSE(Qobs, Jiboa.Qsim[gaugeid]), 3)\n",
    "ModelMetrics['Calib_NSELf'] = round(Pf.NSE(np.log(Qobs), np.log(Jiboa.Qsim[gaugeid])), 3)\n",
    "ModelMetrics['Calib_RMSE'] = round(Pf.RMSE(Qobs, Jiboa.Qsim[gaugeid]), 3)\n",
    "ModelMetrics['Calib_KGE'] = round(Pf.KGE(Qobs, Jiboa.Qsim[gaugeid]), 3)\n",
    "ModelMetrics['Calib_WB'] = round(Pf.WB(Qobs, Jiboa.Qsim[gaugeid]), 3)\n",
    "\n",
    "print(ModelMetrics)"
   ]
  },
  {
   "cell_type": "markdown",
   "metadata": {},
   "source": [
    "# 9-Plot Hydrograph"
   ]
  },
  {
   "cell_type": "code",
   "execution_count": 10,
   "metadata": {},
   "outputs": [
    {
     "name": "stderr",
     "output_type": "stream",
     "text": [
      "2022-03-19 23:34:29.223 | DEBUG    | catchment:plotHydrograph:1142 - ----------------------------------\n",
      "2022-03-19 23:34:29.223 | DEBUG    | catchment:plotHydrograph:1143 - Gauge - 1\n",
      "2022-03-19 23:34:29.223 | DEBUG    | catchment:plotHydrograph:1144 - RMSE= 1.93\n",
      "2022-03-19 23:34:29.223 | DEBUG    | catchment:plotHydrograph:1145 - NSE= 0.48\n",
      "2022-03-19 23:34:29.223 | DEBUG    | catchment:plotHydrograph:1146 - NSEhf= 0.44\n",
      "2022-03-19 23:34:29.223 | DEBUG    | catchment:plotHydrograph:1147 - KGE= 0.54\n",
      "2022-03-19 23:34:29.223 | DEBUG    | catchment:plotHydrograph:1148 - WB= 72.44\n",
      "2022-03-19 23:34:29.223 | DEBUG    | catchment:plotHydrograph:1149 - Pearson-CC= 0.62\n",
      "2022-03-19 23:34:29.223 | DEBUG    | catchment:plotHydrograph:1152 - R2= 0.48\n"
     ]
    },
    {
     "data": {
      "text/plain": "(<Figure size 432x360 with 1 Axes>,\n <AxesSubplot:title={'center':'Gauge - Station 1'}, xlabel='Time', ylabel='Discharge m3/s'>)"
     },
     "execution_count": 10,
     "metadata": {},
     "output_type": "execute_result"
    },
    {
     "data": {
      "text/plain": "<Figure size 432x360 with 1 Axes>",
      "image/png": "[encoded data removed]"
     },
     "metadata": {
      "needs_background": "light"
     },
     "output_type": "display_data"
    }
   ],
   "source": [
    "gaugei = 0\n",
    "plotstart = \"2012-06-16\"\n",
    "plotend = \"2013-12-23\"\n",
    "\n",
    "Jiboa.plotHydrograph(plotstart, plotend, gaugei)"
   ]
  },
  {
   "cell_type": "markdown",
   "metadata": {},
   "source": [
    "# 10-Animate distributed results"
   ]
  },
  {
   "cell_type": "markdown",
   "metadata": {},
   "source": [
    "- To animate the distributed results you can use the `plotDistributedResults` method \n",
    "```\n",
    "=============================================================================\n",
    "plotDistributedResults(StartDate, EndDate, fmt=\"%Y-%m-%d\", Option = 1, Gauges=False, TicksSpacing = 2, Figsize=(8,8), PlotNumbers=True,\n",
    "                    NumSize= 8, Title = 'Total Discharge',titlesize = 15, Backgroundcolorthreshold=None,\n",
    "                    cbarlabel = 'Discharge m3/s', cbarlabelsize = 12, textcolors=(\"white\",\"black\"),\n",
    "                    Cbarlength = 0.75, Interval = 200,cmap='coolwarm_r', Textloc=[0.1,0.2],\n",
    "                    Gaugecolor='red',Gaugesize=100, ColorScale = 1,gamma=1./2.,linthresh=0.0001,\n",
    "                    linscale=0.001, midpoint=0, orientation='vertical', rotation=-90,\n",
    "                    **kwargs):\n",
    "=============================================================================\n",
    "\n",
    "plotDistributedResults animate the time series of the meteorological inputs and\n",
    "the result calculated by the model  like the total discharge, upper zone,\n",
    "and lower zone discharge and the state variables\n",
    "\n",
    "Parameters\n",
    "----------\n",
    "    StartDate : [str]\n",
    "        starting date\n",
    "    EndDate : [str]\n",
    "        end date\n",
    "    fmt : [str]\n",
    "        format of the gicen date. The default is \"%Y-%m-%d\"\n",
    "    Option : [str]\n",
    "        1- Total discharge, 2-Upper zone discharge, 3-ground water,\n",
    "        4-Snowpack state variable, 5-Soil moisture, 6-Upper zone,\n",
    "        7-Lower zone, 8-Water content, 9-Precipitation input. 10-ET,\n",
    "        11-Temperature. The default is 1\n",
    "    Gauges : [str]\n",
    "        . The default is False\n",
    "    TicksSpacing : [integer], optional\n",
    "        Spacing in the colorbar ticks. The default is 2.\n",
    "    Figsize : [tuple], optional\n",
    "        figure size. The default is (8,8).\n",
    "    PlotNumbers : [bool], optional\n",
    "        True to plot the values intop of each cell. The default is True.\n",
    "    NumSize : integer, optional\n",
    "        size of the numbers plotted intop of each cells. The default is 8.\n",
    "    Title : [str], optional\n",
    "        title of the plot. The default is 'Total Discharge'.\n",
    "    titlesize : [integer], optional\n",
    "        title size. The default is 15.\n",
    "    Backgroundcolorthreshold : [float/integer], optional\n",
    "        threshold value if the value of the cell is greater, the plotted\n",
    "        numbers will be black and if smaller the plotted number will be white\n",
    "        if None given the maxvalue/2 will be considered. The default is None.\n",
    "    textcolors : TYPE, optional\n",
    "        Two colors to be used to plot the values i top of each cell. The default is (\"white\",\"black\").\n",
    "    cbarlabel : str, optional\n",
    "        label of the color bar. The default is 'Discharge m3/s'.\n",
    "    cbarlabelsize : integer, optional\n",
    "        size of the color bar label. The default is 12.\n",
    "    Cbarlength : [float], optional\n",
    "        ratio to control the height of the colorbar. The default is 0.75.\n",
    "    Interval : [integer], optional\n",
    "        number to controlthe speed of the animation. The default is 200.\n",
    "    cmap : [str], optional\n",
    "        color style. The default is 'coolwarm_r'.\n",
    "    Textloc : [list], optional\n",
    "        location of the date text. The default is [0.1,0.2].\n",
    "    Gaugecolor : [str], optional\n",
    "        color of the points. The default is 'red'.\n",
    "    Gaugesize : [integer], optional\n",
    "        size of the points. The default is 100.\n",
    "    ColorScale : integer, optional\n",
    "        there are 5 options to change the scale of the colors. The default is 1.\n",
    "        1- ColorScale 1 is the normal scale\n",
    "        2- ColorScale 2 is the power scale\n",
    "        3- ColorScale 3 is the SymLogNorm scale\n",
    "        4- ColorScale 4 is the PowerNorm scale\n",
    "        5- ColorScale 5 is the BoundaryNorm scale\n",
    "        ------------------------------------------------------------------\n",
    "        gamma : [float], optional\n",
    "            value needed for option 2 . The default is 1./2..\n",
    "        linthresh : [float], optional\n",
    "            value needed for option 3. The default is 0.0001.\n",
    "        linscale : [float], optional\n",
    "            value needed for option 3. The default is 0.001.\n",
    "        midpoint : [float], optional\n",
    "            value needed for option 5. The default is 0.\n",
    "        ------------------------------------------------------------------\n",
    "    orientation : [string], optional\n",
    "        orintation of the colorbar horizontal/vertical. The default is 'vertical'.\n",
    "    rotation : [number], optional\n",
    "        rotation of the colorbar label. The default is -90.\n",
    "    **kwargs : [dict]\n",
    "        keys:\n",
    "            Points : [dataframe].\n",
    "                dataframe contains two columns 'cell_row', and cell_col to\n",
    "                plot the point at this location\n",
    "\n",
    "    Returns\n",
    "    -------\n",
    "    animation.FuncAnimation.\n",
    "```"
   ]
  },
  {
   "cell_type": "code",
   "execution_count": 14,
   "metadata": {},
   "outputs": [
    {
     "ename": "RuntimeError",
     "evalue": "Requested MovieWriter (ffmpeg) not available",
     "output_type": "error",
     "traceback": [
      "\u001B[1;31m---------------------------------------------------------------------------\u001B[0m",
      "\u001B[1;31mRuntimeError\u001B[0m                              Traceback (most recent call last)",
      "Input \u001B[1;32mIn [14]\u001B[0m, in \u001B[0;36m<module>\u001B[1;34m\u001B[0m\n\u001B[0;32m      6\u001B[0m plotend \u001B[38;5;241m=\u001B[39m \u001B[38;5;124m\"\u001B[39m\u001B[38;5;124m2012-08-20\u001B[39m\u001B[38;5;124m\"\u001B[39m\n\u001B[0;32m      8\u001B[0m Anim \u001B[38;5;241m=\u001B[39m Jiboa\u001B[38;5;241m.\u001B[39mPlotDistributedResults(\n\u001B[0;32m      9\u001B[0m     plotstart, plotend, Figsize\u001B[38;5;241m=\u001B[39m(\u001B[38;5;241m8\u001B[39m, \u001B[38;5;241m8\u001B[39m), Option\u001B[38;5;241m=\u001B[39m\u001B[38;5;241m6\u001B[39m, threshold\u001B[38;5;241m=\u001B[39m\u001B[38;5;241m160\u001B[39m, PlotNumbers\u001B[38;5;241m=\u001B[39m\u001B[38;5;28;01mFalse\u001B[39;00m, TicksSpacing\u001B[38;5;241m=\u001B[39m\u001B[38;5;241m10\u001B[39m, Interval\u001B[38;5;241m=\u001B[39m\u001B[38;5;241m10\u001B[39m,\n\u001B[0;32m     10\u001B[0m     Gauges\u001B[38;5;241m=\u001B[39m\u001B[38;5;28;01mFalse\u001B[39;00m, cmap\u001B[38;5;241m=\u001B[39m\u001B[38;5;124m'\u001B[39m\u001B[38;5;124minferno\u001B[39m\u001B[38;5;124m'\u001B[39m, Textloc\u001B[38;5;241m=\u001B[39m[\u001B[38;5;241m0.1\u001B[39m, \u001B[38;5;241m0.2\u001B[39m], Gaugecolor\u001B[38;5;241m=\u001B[39m\u001B[38;5;124m'\u001B[39m\u001B[38;5;124mred\u001B[39m\u001B[38;5;124m'\u001B[39m, ColorScale\u001B[38;5;241m=\u001B[39m\u001B[38;5;241m2\u001B[39m, IDcolor\u001B[38;5;241m=\u001B[39m\u001B[38;5;124m'\u001B[39m\u001B[38;5;124mblue\u001B[39m\u001B[38;5;124m'\u001B[39m, IDsize\u001B[38;5;241m=\u001B[39m\u001B[38;5;241m25\u001B[39m,\n\u001B[0;32m     11\u001B[0m     gamma\u001B[38;5;241m=\u001B[39m\u001B[38;5;241m0.08\u001B[39m)\n\u001B[1;32m---> 13\u001B[0m HTML(\u001B[43mAnim\u001B[49m\u001B[38;5;241;43m.\u001B[39;49m\u001B[43mto_html5_video\u001B[49m\u001B[43m(\u001B[49m\u001B[43m)\u001B[49m)\n",
      "File \u001B[1;32m~\\anaconda\\lib\\site-packages\\matplotlib\\animation.py:1266\u001B[0m, in \u001B[0;36mAnimation.to_html5_video\u001B[1;34m(self, embed_limit)\u001B[0m\n\u001B[0;32m   1263\u001B[0m path \u001B[38;5;241m=\u001B[39m Path(tmpdir, \u001B[38;5;124m\"\u001B[39m\u001B[38;5;124mtemp.m4v\u001B[39m\u001B[38;5;124m\"\u001B[39m)\n\u001B[0;32m   1264\u001B[0m \u001B[38;5;66;03m# We create a writer manually so that we can get the\u001B[39;00m\n\u001B[0;32m   1265\u001B[0m \u001B[38;5;66;03m# appropriate size for the tag\u001B[39;00m\n\u001B[1;32m-> 1266\u001B[0m Writer \u001B[38;5;241m=\u001B[39m \u001B[43mwriters\u001B[49m\u001B[43m[\u001B[49m\u001B[43mmpl\u001B[49m\u001B[38;5;241;43m.\u001B[39;49m\u001B[43mrcParams\u001B[49m\u001B[43m[\u001B[49m\u001B[38;5;124;43m'\u001B[39;49m\u001B[38;5;124;43manimation.writer\u001B[39;49m\u001B[38;5;124;43m'\u001B[39;49m\u001B[43m]\u001B[49m\u001B[43m]\u001B[49m\n\u001B[0;32m   1267\u001B[0m writer \u001B[38;5;241m=\u001B[39m Writer(codec\u001B[38;5;241m=\u001B[39m\u001B[38;5;124m'\u001B[39m\u001B[38;5;124mh264\u001B[39m\u001B[38;5;124m'\u001B[39m,\n\u001B[0;32m   1268\u001B[0m                 bitrate\u001B[38;5;241m=\u001B[39mmpl\u001B[38;5;241m.\u001B[39mrcParams[\u001B[38;5;124m'\u001B[39m\u001B[38;5;124manimation.bitrate\u001B[39m\u001B[38;5;124m'\u001B[39m],\n\u001B[0;32m   1269\u001B[0m                 fps\u001B[38;5;241m=\u001B[39m\u001B[38;5;241m1000.\u001B[39m \u001B[38;5;241m/\u001B[39m \u001B[38;5;28mself\u001B[39m\u001B[38;5;241m.\u001B[39m_interval)\n\u001B[0;32m   1270\u001B[0m \u001B[38;5;28mself\u001B[39m\u001B[38;5;241m.\u001B[39msave(\u001B[38;5;28mstr\u001B[39m(path), writer\u001B[38;5;241m=\u001B[39mwriter)\n",
      "File \u001B[1;32m~\\anaconda\\lib\\site-packages\\matplotlib\\animation.py:151\u001B[0m, in \u001B[0;36mMovieWriterRegistry.__getitem__\u001B[1;34m(self, name)\u001B[0m\n\u001B[0;32m    149\u001B[0m \u001B[38;5;28;01mif\u001B[39;00m \u001B[38;5;28mself\u001B[39m\u001B[38;5;241m.\u001B[39mis_available(name):\n\u001B[0;32m    150\u001B[0m     \u001B[38;5;28;01mreturn\u001B[39;00m \u001B[38;5;28mself\u001B[39m\u001B[38;5;241m.\u001B[39m_registered[name]\n\u001B[1;32m--> 151\u001B[0m \u001B[38;5;28;01mraise\u001B[39;00m \u001B[38;5;167;01mRuntimeError\u001B[39;00m(\u001B[38;5;124mf\u001B[39m\u001B[38;5;124m\"\u001B[39m\u001B[38;5;124mRequested MovieWriter (\u001B[39m\u001B[38;5;132;01m{\u001B[39;00mname\u001B[38;5;132;01m}\u001B[39;00m\u001B[38;5;124m) not available\u001B[39m\u001B[38;5;124m\"\u001B[39m)\n",
      "\u001B[1;31mRuntimeError\u001B[0m: Requested MovieWriter (ffmpeg) not available"
     ]
    },
    {
     "data": {
      "text/plain": "<Figure size 576x576 with 2 Axes>",
      "image/png": "[encoded data removed]"
     },
     "metadata": {
      "needs_background": "light"
     },
     "output_type": "display_data"
    }
   ],
   "source": [
    "% matplotlib inline\n",
    "from IPython.display import HTML\n",
    "\n",
    "\n",
    "plotstart = \"2012-07-20\"\n",
    "plotend = \"2012-08-20\"\n",
    "\n",
    "Anim = Jiboa.plotDistributedResults(\n",
    "    plotstart, plotend, Figsize=(8, 8), Option=6, threshold=160, PlotNumbers=False, TicksSpacing=10, Interval=10,\n",
    "    Gauges=False, cmap='inferno', Textloc=[0.1, 0.2], Gaugecolor='red', ColorScale=2, IDcolor='blue', IDsize=25,\n",
    "    gamma=0.08)\n",
    "\n",
    "HTML(Anim.to_html5_video())"
   ]
  },
  {
   "cell_type": "markdown",
   "metadata": {},
   "source": [
    "- if you like to save the animation"
   ]
  },
  {
   "cell_type": "code",
   "execution_count": 12,
   "metadata": {},
   "outputs": [],
   "source": [
    "Path = SaveTo + \"anim.mov\"\n",
    "Jiboa.saveAnimation(VideoFormat=\"mov\", Path=Path, SaveFrames=3)"
   ]
  },
  {
   "cell_type": "markdown",
   "metadata": {},
   "source": [
    "# 11-Store the result into rasters"
   ]
  },
  {
   "cell_type": "code",
   "execution_count": 13,
   "metadata": {},
   "outputs": [
    {
     "name": "stdout",
     "output_type": "stream",
     "text": [
      "Data is saved successfully\n"
     ]
    }
   ],
   "source": [
    "StartDate = \"2012-07-20\"\n",
    "EndDate = \"2012-08-20\"\n",
    "\n",
    "Path = SaveTo + \"Lumped_Parameters_\" + str(dt.datetime.now())[0:10] + \"_\"\n",
    "Jiboa.saveResults(Result=1, StartDate=StartDate, EndDate=EndDate, Path=Path, FlowAccPath=FlowAccPath)"
   ]
  }
 ],
 "metadata": {
  "kernelspec": {
   "name": "pycharm-e2d4c152",
   "language": "python",
   "display_name": "PyCharm (pythonProject)"
  },
  "language_info": {
   "codemirror_mode": {
    "name": "ipython",
    "version": 3
   },
   "file_extension": ".py",
   "mimetype": "text/x-python",
   "name": "python",
   "nbconvert_exporter": "python",
   "pygments_lexer": "ipython3",
   "version": "3.8.10"
  }
 },
 "nbformat": 4,
 "nbformat_minor": 4
}
